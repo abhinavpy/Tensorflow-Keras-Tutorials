{
  "nbformat": 4,
  "nbformat_minor": 0,
  "metadata": {
    "colab": {
      "name": "Keras Regression for Deep Neural Networks with RMSE",
      "version": "0.3.2",
      "provenance": [],
      "include_colab_link": true
    },
    "kernelspec": {
      "name": "python3",
      "display_name": "Python 3"
    }
  },
  "cells": [
    {
      "cell_type": "markdown",
      "metadata": {
        "id": "view-in-github",
        "colab_type": "text"
      },
      "source": [
        "<a href=\"https://colab.research.google.com/github/abhinavpy/Tensorflow-Keras-Tutorials/blob/master/Keras_Regression_for_Deep_Neural_Networks_with_RMSE.ipynb\" target=\"_parent\"><img src=\"https://colab.research.google.com/assets/colab-badge.svg\" alt=\"Open In Colab\"/></a>"
      ]
    },
    {
      "cell_type": "code",
      "metadata": {
        "id": "uW2Q8EOJ1_sE",
        "colab_type": "code",
        "colab": {
          "base_uri": "https://localhost:8080/",
          "height": 179
        },
        "outputId": "fd2bc5d9-cd99-42b8-bad0-ee1393cc4b8b"
      },
      "source": [
        "import pandas as pd\n",
        "from scipy.stats import zscore\n",
        "from sklearn.model_selection import train_test_split\n",
        "\n",
        "# Read the data\n",
        "df = pd.read_csv(\"https://data.heatonresearch.com/data/t81-558/jh-simple-dataset.csv\", na_values = ['NA','?'])\n",
        "\n",
        "print(df.head())\n",
        "print(df.shape)"
      ],
      "execution_count": 2,
      "outputs": [
        {
          "output_type": "stream",
          "text": [
            "   id job area   income  ...  pop_dense  retail_dense     crime  product\n",
            "0   1  vv    c  50876.0  ...   0.885827      0.492126  0.071100        b\n",
            "1   2  kd    c  60369.0  ...   0.874016      0.342520  0.400809        c\n",
            "2   3  pe    c  55126.0  ...   0.944882      0.724409  0.207723        b\n",
            "3   4  11    c  51690.0  ...   0.889764      0.444882  0.361216        b\n",
            "4   5  kl    d  28347.0  ...   0.744094      0.661417  0.068033        a\n",
            "\n",
            "[5 rows x 14 columns]\n",
            "(2000, 14)\n"
          ],
          "name": "stdout"
        }
      ]
    },
    {
      "cell_type": "code",
      "metadata": {
        "id": "ohx_jkPY3cEP",
        "colab_type": "code",
        "colab": {}
      },
      "source": [
        "# Generate dummies for job\n",
        "df = pd.concat([df,pd.get_dummies(df['job'],prefix=\"job\")],axis=1)\n",
        "df.drop('job', axis=1, inplace=True)\n",
        "\n",
        "# Generate dummies for area\n",
        "df = pd.concat([df,pd.get_dummies(df['area'],prefix=\"area\")],axis=1)\n",
        "df.drop('area', axis=1, inplace=True)\n",
        "\n",
        "# Generate dummies for product\n",
        "df = pd.concat([df,pd.get_dummies(df['product'],prefix=\"product\")],axis=1)\n",
        "df.drop('product', axis=1, inplace=True)"
      ],
      "execution_count": 0,
      "outputs": []
    },
    {
      "cell_type": "code",
      "metadata": {
        "id": "ZwWauvJC3p_F",
        "colab_type": "code",
        "colab": {}
      },
      "source": [
        "# Missing values for income\n",
        "med = df['income'].median()\n",
        "df['income'] = df['income'].fillna(med)\n",
        "\n",
        "# Standardize ranges\n",
        "df['income'] = zscore(df['income'])\n",
        "df['aspect'] = zscore(df['aspect'])\n",
        "df['save_rate'] = zscore(df['save_rate'])\n",
        "df['subscriptions'] = zscore(df['subscriptions'])\n",
        "\n",
        "# Convert to numpy - Classification\n",
        "x_columns = df.columns.drop('age').drop('id')\n",
        "x = df[x_columns].values\n",
        "y = df['age'].values\n",
        "\n",
        "# Create train/test\n",
        "x_train, x_test, y_train, y_test = train_test_split(x, y, test_size=0.25, random_state = 42)"
      ],
      "execution_count": 0,
      "outputs": []
    },
    {
      "cell_type": "code",
      "metadata": {
        "id": "wSeBWZTF445E",
        "colab_type": "code",
        "colab": {
          "base_uri": "https://localhost:8080/",
          "height": 1000
        },
        "outputId": "028921d0-8675-4623-f7e1-0e513d34c1a3"
      },
      "source": [
        "from tensorflow.keras.models import Sequential\n",
        "from tensorflow.keras.layers import Dense, Activation\n",
        "from tensorflow.keras.callbacks import EarlyStopping\n",
        "\n",
        "# Build the neural network\n",
        "model = Sequential()\n",
        "model.add(Dense(25, input_dim=x.shape[1], activation='relu')) # Hidden 1\n",
        "model.add(Dense(10, activation='relu')) # Hidden 2\n",
        "model.add(Dense(1)) # Output\n",
        "model.compile(loss = 'mean_squared_error', optimizer = 'adam')\n",
        "monitor = EarlyStopping(monitor='val_loss', min_delta=1e-3, \n",
        "                       patience=5, verbose=1, mode='auto', restore_best_weights=True)\n",
        "model.fit(x_train, y_train, validation_data = (x_test, y_test), callbacks=[monitor], verbose=2, epochs=1000)"
      ],
      "execution_count": 5,
      "outputs": [
        {
          "output_type": "stream",
          "text": [
            "WARNING: Logging before flag parsing goes to stderr.\n",
            "W0708 09:25:41.480862 139897716647808 deprecation.py:506] From /usr/local/lib/python3.6/dist-packages/tensorflow/python/ops/init_ops.py:1251: calling VarianceScaling.__init__ (from tensorflow.python.ops.init_ops) with dtype is deprecated and will be removed in a future version.\n",
            "Instructions for updating:\n",
            "Call initializer instance with the dtype argument instead of passing it to the constructor\n"
          ],
          "name": "stderr"
        },
        {
          "output_type": "stream",
          "text": [
            "Train on 1500 samples, validate on 500 samples\n",
            "Epoch 1/1000\n",
            "1500/1500 - 1s - loss: 1602.0956 - val_loss: 1232.4730\n",
            "Epoch 2/1000\n",
            "1500/1500 - 0s - loss: 877.7926 - val_loss: 488.4487\n",
            "Epoch 3/1000\n",
            "1500/1500 - 0s - loss: 371.0667 - val_loss: 287.8026\n",
            "Epoch 4/1000\n",
            "1500/1500 - 0s - loss: 279.2906 - val_loss: 251.4105\n",
            "Epoch 5/1000\n",
            "1500/1500 - 0s - loss: 239.0856 - val_loss: 212.7134\n",
            "Epoch 6/1000\n",
            "1500/1500 - 0s - loss: 195.9671 - val_loss: 173.6306\n",
            "Epoch 7/1000\n",
            "1500/1500 - 0s - loss: 156.1073 - val_loss: 138.7008\n",
            "Epoch 8/1000\n",
            "1500/1500 - 0s - loss: 123.3469 - val_loss: 111.5052\n",
            "Epoch 9/1000\n",
            "1500/1500 - 0s - loss: 97.4037 - val_loss: 91.0514\n",
            "Epoch 10/1000\n",
            "1500/1500 - 0s - loss: 78.0966 - val_loss: 74.3427\n",
            "Epoch 11/1000\n",
            "1500/1500 - 0s - loss: 63.5164 - val_loss: 62.3508\n",
            "Epoch 12/1000\n",
            "1500/1500 - 0s - loss: 52.9783 - val_loss: 53.9389\n",
            "Epoch 13/1000\n",
            "1500/1500 - 0s - loss: 45.1159 - val_loss: 46.1581\n",
            "Epoch 14/1000\n",
            "1500/1500 - 0s - loss: 38.5517 - val_loss: 40.5754\n",
            "Epoch 15/1000\n",
            "1500/1500 - 0s - loss: 33.2944 - val_loss: 35.2978\n",
            "Epoch 16/1000\n",
            "1500/1500 - 0s - loss: 28.9518 - val_loss: 31.0582\n",
            "Epoch 17/1000\n",
            "1500/1500 - 0s - loss: 25.3054 - val_loss: 27.2097\n",
            "Epoch 18/1000\n",
            "1500/1500 - 0s - loss: 22.1830 - val_loss: 24.2204\n",
            "Epoch 19/1000\n",
            "1500/1500 - 0s - loss: 19.7960 - val_loss: 21.6123\n",
            "Epoch 20/1000\n",
            "1500/1500 - 0s - loss: 17.7405 - val_loss: 19.5522\n",
            "Epoch 21/1000\n",
            "1500/1500 - 0s - loss: 16.3196 - val_loss: 17.7766\n",
            "Epoch 22/1000\n",
            "1500/1500 - 0s - loss: 15.0261 - val_loss: 16.4518\n",
            "Epoch 23/1000\n",
            "1500/1500 - 0s - loss: 14.1458 - val_loss: 15.3837\n",
            "Epoch 24/1000\n",
            "1500/1500 - 0s - loss: 13.2554 - val_loss: 14.6078\n",
            "Epoch 25/1000\n",
            "1500/1500 - 0s - loss: 12.6569 - val_loss: 13.8957\n",
            "Epoch 26/1000\n",
            "1500/1500 - 0s - loss: 12.0952 - val_loss: 13.1422\n",
            "Epoch 27/1000\n",
            "1500/1500 - 0s - loss: 11.6985 - val_loss: 12.6671\n",
            "Epoch 28/1000\n",
            "1500/1500 - 0s - loss: 11.2579 - val_loss: 12.0686\n",
            "Epoch 29/1000\n",
            "1500/1500 - 0s - loss: 10.9440 - val_loss: 11.9144\n",
            "Epoch 30/1000\n",
            "1500/1500 - 0s - loss: 10.6134 - val_loss: 11.0963\n",
            "Epoch 31/1000\n",
            "1500/1500 - 0s - loss: 10.0764 - val_loss: 10.7497\n",
            "Epoch 32/1000\n",
            "1500/1500 - 0s - loss: 9.7698 - val_loss: 10.3024\n",
            "Epoch 33/1000\n",
            "1500/1500 - 0s - loss: 9.4863 - val_loss: 9.8948\n",
            "Epoch 34/1000\n",
            "1500/1500 - 0s - loss: 9.0981 - val_loss: 9.5743\n",
            "Epoch 35/1000\n",
            "1500/1500 - 0s - loss: 8.8200 - val_loss: 9.3156\n",
            "Epoch 36/1000\n",
            "1500/1500 - 0s - loss: 8.5683 - val_loss: 8.9198\n",
            "Epoch 37/1000\n",
            "1500/1500 - 0s - loss: 8.1810 - val_loss: 8.5314\n",
            "Epoch 38/1000\n",
            "1500/1500 - 0s - loss: 7.9264 - val_loss: 8.3174\n",
            "Epoch 39/1000\n",
            "1500/1500 - 0s - loss: 7.6107 - val_loss: 7.8951\n",
            "Epoch 40/1000\n",
            "1500/1500 - 0s - loss: 7.4539 - val_loss: 7.7928\n",
            "Epoch 41/1000\n",
            "1500/1500 - 0s - loss: 7.0456 - val_loss: 7.2528\n",
            "Epoch 42/1000\n",
            "1500/1500 - 0s - loss: 6.9273 - val_loss: 7.2474\n",
            "Epoch 43/1000\n",
            "1500/1500 - 0s - loss: 6.5675 - val_loss: 6.7209\n",
            "Epoch 44/1000\n",
            "1500/1500 - 0s - loss: 6.3886 - val_loss: 6.4472\n",
            "Epoch 45/1000\n",
            "1500/1500 - 0s - loss: 6.1155 - val_loss: 6.2335\n",
            "Epoch 46/1000\n",
            "1500/1500 - 0s - loss: 5.9155 - val_loss: 5.9138\n",
            "Epoch 47/1000\n",
            "1500/1500 - 0s - loss: 5.6156 - val_loss: 5.6399\n",
            "Epoch 48/1000\n",
            "1500/1500 - 0s - loss: 5.3397 - val_loss: 5.7729\n",
            "Epoch 49/1000\n",
            "1500/1500 - 0s - loss: 5.2353 - val_loss: 5.1824\n",
            "Epoch 50/1000\n",
            "1500/1500 - 0s - loss: 4.9075 - val_loss: 4.9543\n",
            "Epoch 51/1000\n",
            "1500/1500 - 0s - loss: 4.7523 - val_loss: 4.7241\n",
            "Epoch 52/1000\n",
            "1500/1500 - 0s - loss: 4.5449 - val_loss: 4.5155\n",
            "Epoch 53/1000\n",
            "1500/1500 - 0s - loss: 4.2691 - val_loss: 4.4597\n",
            "Epoch 54/1000\n",
            "1500/1500 - 0s - loss: 4.1612 - val_loss: 4.0736\n",
            "Epoch 55/1000\n",
            "1500/1500 - 0s - loss: 3.9536 - val_loss: 3.8991\n",
            "Epoch 56/1000\n",
            "1500/1500 - 0s - loss: 3.7129 - val_loss: 3.8581\n",
            "Epoch 57/1000\n",
            "1500/1500 - 0s - loss: 3.5803 - val_loss: 3.6694\n",
            "Epoch 58/1000\n",
            "1500/1500 - 0s - loss: 3.3942 - val_loss: 3.3642\n",
            "Epoch 59/1000\n",
            "1500/1500 - 0s - loss: 3.1856 - val_loss: 3.2541\n",
            "Epoch 60/1000\n",
            "1500/1500 - 0s - loss: 3.0434 - val_loss: 3.0313\n",
            "Epoch 61/1000\n",
            "1500/1500 - 0s - loss: 2.9422 - val_loss: 3.3853\n",
            "Epoch 62/1000\n",
            "1500/1500 - 0s - loss: 2.7725 - val_loss: 2.7361\n",
            "Epoch 63/1000\n",
            "1500/1500 - 0s - loss: 2.6225 - val_loss: 2.6306\n",
            "Epoch 64/1000\n",
            "1500/1500 - 0s - loss: 2.4633 - val_loss: 2.5358\n",
            "Epoch 65/1000\n",
            "1500/1500 - 0s - loss: 2.3789 - val_loss: 2.3297\n",
            "Epoch 66/1000\n",
            "1500/1500 - 0s - loss: 2.2257 - val_loss: 2.2117\n",
            "Epoch 67/1000\n",
            "1500/1500 - 0s - loss: 2.1310 - val_loss: 2.1282\n",
            "Epoch 68/1000\n",
            "1500/1500 - 0s - loss: 1.9836 - val_loss: 2.0155\n",
            "Epoch 69/1000\n",
            "1500/1500 - 0s - loss: 1.9385 - val_loss: 1.9623\n",
            "Epoch 70/1000\n",
            "1500/1500 - 0s - loss: 1.8230 - val_loss: 1.7788\n",
            "Epoch 71/1000\n",
            "1500/1500 - 0s - loss: 1.7190 - val_loss: 1.6796\n",
            "Epoch 72/1000\n",
            "1500/1500 - 0s - loss: 1.6072 - val_loss: 1.5922\n",
            "Epoch 73/1000\n",
            "1500/1500 - 0s - loss: 1.5732 - val_loss: 1.5242\n",
            "Epoch 74/1000\n",
            "1500/1500 - 0s - loss: 1.4743 - val_loss: 1.4676\n",
            "Epoch 75/1000\n",
            "1500/1500 - 0s - loss: 1.3472 - val_loss: 1.4412\n",
            "Epoch 76/1000\n",
            "1500/1500 - 0s - loss: 1.3113 - val_loss: 1.3201\n",
            "Epoch 77/1000\n",
            "1500/1500 - 0s - loss: 1.3202 - val_loss: 1.2351\n",
            "Epoch 78/1000\n",
            "1500/1500 - 0s - loss: 1.1821 - val_loss: 1.1845\n",
            "Epoch 79/1000\n",
            "1500/1500 - 0s - loss: 1.1364 - val_loss: 1.1344\n",
            "Epoch 80/1000\n",
            "1500/1500 - 0s - loss: 1.0941 - val_loss: 1.0688\n",
            "Epoch 81/1000\n",
            "1500/1500 - 0s - loss: 1.0135 - val_loss: 1.0347\n",
            "Epoch 82/1000\n",
            "1500/1500 - 0s - loss: 0.9802 - val_loss: 1.0436\n",
            "Epoch 83/1000\n",
            "1500/1500 - 0s - loss: 0.9476 - val_loss: 0.9485\n",
            "Epoch 84/1000\n",
            "1500/1500 - 0s - loss: 0.9314 - val_loss: 0.9087\n",
            "Epoch 85/1000\n",
            "1500/1500 - 0s - loss: 0.8827 - val_loss: 0.9239\n",
            "Epoch 86/1000\n",
            "1500/1500 - 0s - loss: 0.8321 - val_loss: 1.2227\n",
            "Epoch 87/1000\n",
            "1500/1500 - 0s - loss: 0.8314 - val_loss: 0.8812\n",
            "Epoch 88/1000\n",
            "1500/1500 - 0s - loss: 0.8003 - val_loss: 0.8271\n",
            "Epoch 89/1000\n",
            "1500/1500 - 0s - loss: 0.7868 - val_loss: 0.7819\n",
            "Epoch 90/1000\n",
            "1500/1500 - 0s - loss: 0.7468 - val_loss: 0.9078\n",
            "Epoch 91/1000\n",
            "1500/1500 - 0s - loss: 0.7334 - val_loss: 0.7450\n",
            "Epoch 92/1000\n",
            "1500/1500 - 0s - loss: 0.7212 - val_loss: 0.7593\n",
            "Epoch 93/1000\n",
            "1500/1500 - 0s - loss: 0.7045 - val_loss: 0.7275\n",
            "Epoch 94/1000\n",
            "1500/1500 - 0s - loss: 0.7333 - val_loss: 0.7597\n",
            "Epoch 95/1000\n",
            "1500/1500 - 0s - loss: 0.7004 - val_loss: 0.7180\n",
            "Epoch 96/1000\n",
            "1500/1500 - 0s - loss: 0.7390 - val_loss: 0.7102\n",
            "Epoch 97/1000\n",
            "1500/1500 - 0s - loss: 0.6582 - val_loss: 0.6920\n",
            "Epoch 98/1000\n",
            "1500/1500 - 0s - loss: 0.6776 - val_loss: 0.7321\n",
            "Epoch 99/1000\n",
            "1500/1500 - 0s - loss: 0.6762 - val_loss: 0.6872\n",
            "Epoch 100/1000\n",
            "1500/1500 - 0s - loss: 0.6517 - val_loss: 0.6777\n",
            "Epoch 101/1000\n",
            "1500/1500 - 0s - loss: 0.6168 - val_loss: 0.6651\n",
            "Epoch 102/1000\n",
            "1500/1500 - 0s - loss: 0.6281 - val_loss: 0.6376\n",
            "Epoch 103/1000\n",
            "1500/1500 - 0s - loss: 0.6240 - val_loss: 0.6576\n",
            "Epoch 104/1000\n",
            "1500/1500 - 0s - loss: 0.6448 - val_loss: 0.6738\n",
            "Epoch 105/1000\n",
            "1500/1500 - 0s - loss: 0.6091 - val_loss: 0.6450\n",
            "Epoch 106/1000\n",
            "1500/1500 - 0s - loss: 0.6030 - val_loss: 0.7642\n",
            "Epoch 107/1000\n",
            "Restoring model weights from the end of the best epoch.\n",
            "1500/1500 - 0s - loss: 0.6345 - val_loss: 0.7179\n",
            "Epoch 00107: early stopping\n"
          ],
          "name": "stdout"
        },
        {
          "output_type": "execute_result",
          "data": {
            "text/plain": [
              "<tensorflow.python.keras.callbacks.History at 0x7f3c3864ce48>"
            ]
          },
          "metadata": {
            "tags": []
          },
          "execution_count": 5
        }
      ]
    },
    {
      "cell_type": "markdown",
      "metadata": {
        "id": "kxQlXQen64bx",
        "colab_type": "text"
      },
      "source": [
        "## Mean Square Error \n",
        "The mean square error is the sum of the squared differences between the prediction y^ and the expected y. MSE values are not a particular unit. If an MSE value has decreased for a model, that is good. However, beyond this, there is not much more you can determine. Low MSE values are desired. "
      ]
    },
    {
      "cell_type": "code",
      "metadata": {
        "id": "Zt_xzogw6oo3",
        "colab_type": "code",
        "colab": {
          "base_uri": "https://localhost:8080/",
          "height": 35
        },
        "outputId": "e315e9a0-3a03-4602-9dcc-2dd8abeb706b"
      },
      "source": [
        "from sklearn import metrics\n",
        "\n",
        "# Predict\n",
        "pred = model.predict(x_test)\n",
        "\n",
        "# Measure MSE Error\n",
        "score = metrics.mean_squared_error(pred, y_test)\n",
        "print(\"Final score (MSE): {}\".format(score))"
      ],
      "execution_count": 8,
      "outputs": [
        {
          "output_type": "stream",
          "text": [
            "Final score (MSE): 0.6376062035423457\n"
          ],
          "name": "stdout"
        }
      ]
    },
    {
      "cell_type": "markdown",
      "metadata": {
        "id": "OoeCcNuf84HE",
        "colab_type": "text"
      },
      "source": [
        "## Root Mean Squared Error \n",
        "The root mean squared error is essentially the square root of the MSE. Because of this the RMSE Error is in the same units as the training data outcome. Low RMSE values are desired."
      ]
    },
    {
      "cell_type": "code",
      "metadata": {
        "id": "QkxYHeYo8sEH",
        "colab_type": "code",
        "colab": {
          "base_uri": "https://localhost:8080/",
          "height": 35
        },
        "outputId": "0114530d-97e6-442a-d1ee-6c298453b18b"
      },
      "source": [
        "import numpy as np\n",
        "\n",
        "# Measure RMSE Error, RMSE is common for regression.\n",
        "score = np.sqrt(metrics.mean_squared_error(pred, y_test))\n",
        "print(\"Final score (RMSE): {}\".format(score))"
      ],
      "execution_count": 9,
      "outputs": [
        {
          "output_type": "stream",
          "text": [
            "Final score (RMSE): 0.7985024756018893\n"
          ],
          "name": "stdout"
        }
      ]
    },
    {
      "cell_type": "markdown",
      "metadata": {
        "id": "Ad5zzWu896wB",
        "colab_type": "text"
      },
      "source": [
        "## Lift Chart\n",
        "To generate a lift chart, perform the following activities:\n",
        "\n",
        "\n",
        "*   Sort the data by expected output. Plot the blue line above. \n",
        "*   For every point on the x-axis, plot the predicted value for that same data-point. This is the green line above. \n",
        "*   The x-axis is just 0 - 100% of the dataset. The expected always starts low and ends high.\n",
        "*   The y-axis is ranged according to the values predicted.\n",
        "\n",
        "### Reading a Lift Chart\n",
        "*   The expected and predicted lines should be very close to each other. \n",
        "*   The below chart is the most accurate on the lower age.\n",
        "\n"
      ]
    },
    {
      "cell_type": "code",
      "metadata": {
        "id": "LplIIkTC92n4",
        "colab_type": "code",
        "colab": {}
      },
      "source": [
        "# Regression Chart\n",
        "from matplotlib import pyplot as plt\n",
        "def chart_regression(pred, y, sort=True):\n",
        "  t = pd.DataFrame({'pred': pred, 'y': y.flatten()})\n",
        "  if sort:\n",
        "    t.sort_values(by=['y'], inplace=True)\n",
        "  plt.plot(t['y'].tolist(), label = 'expected')\n",
        "  plt.plot(t['pred'].tolist(), label = 'prediction')\n",
        "  plt.ylabel('output')\n",
        "  plt.legend()\n",
        "  plt.show()"
      ],
      "execution_count": 0,
      "outputs": []
    },
    {
      "cell_type": "code",
      "metadata": {
        "id": "I1Y5vjR4__oM",
        "colab_type": "code",
        "colab": {
          "base_uri": "https://localhost:8080/",
          "height": 269
        },
        "outputId": "4b0aa814-6ac6-4ba8-8bc1-57a72e0454d3"
      },
      "source": [
        "# Plot the chart\n",
        "chart_regression(pred.flatten(), y_test)"
      ],
      "execution_count": 13,
      "outputs": [
        {
          "output_type": "display_data",
          "data": {
            "image/png": "[encoded data removed]",
            "text/plain": [
              "<Figure size 432x288 with 1 Axes>"
            ]
          },
          "metadata": {
            "tags": []
          }
        }
      ]
    },
    {
      "cell_type": "code",
      "metadata": {
        "id": "bB9xYkHvALKa",
        "colab_type": "code",
        "colab": {}
      },
      "source": [
        ""
      ],
      "execution_count": 0,
      "outputs": []
    }
  ]
}