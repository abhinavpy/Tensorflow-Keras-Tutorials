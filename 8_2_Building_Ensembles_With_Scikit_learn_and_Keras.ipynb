{
  "nbformat": 4,
  "nbformat_minor": 0,
  "metadata": {
    "colab": {
      "name": "8.2 - Building Ensembles With Scikit-learn and Keras",
      "version": "0.3.2",
      "provenance": [],
      "include_colab_link": true
    },
    "kernelspec": {
      "name": "python3",
      "display_name": "Python 3"
    }
  },
  "cells": [
    {
      "cell_type": "markdown",
      "metadata": {
        "id": "view-in-github",
        "colab_type": "text"
      },
      "source": [
        "<a href=\"https://colab.research.google.com/github/abhinavpy/Tensorflow-Keras-Tutorials/blob/master/8_2_Building_Ensembles_With_Scikit_learn_and_Keras.ipynb\" target=\"_parent\"><img src=\"https://colab.research.google.com/assets/colab-badge.svg\" alt=\"Open In Colab\"/></a>"
      ]
    },
    {
      "cell_type": "markdown",
      "metadata": {
        "id": "FTFkrkL5b4pG",
        "colab_type": "text"
      },
      "source": [
        "## Evaluating Feature Importance\n",
        "Feature importance tells us how important each of the features (from the feature) import vector are to the prediction of a neural network, or other model. There are many different ways to evaluate feature importance for neural networks. \n",
        "\n",
        "In summary the following methods are available to neural networks:\n",
        "\n",
        "*  Conncection Weights Algorithm\n",
        "*  Partial Derivatives\n",
        "*  Input Pertubation\n",
        "*  Sensitivity Analysis\n",
        "*  Forward Stepwise Addition\n",
        "*  Improved Stepwise Selection\n",
        "*  Backward Stepwise Elimination\n",
        "*  Improved Stepwise Selection\n",
        "\n",
        "For this notebook we will use the Input Perturbation feature ranking algorithm. This algorithm will work with any regression or classificatin network. Implementation of the input perturbation algorithm for scikit-learn is given in the next section. This algorithm is implemented in a function below that will work with an scikit-learn model. "
      ]
    },
    {
      "cell_type": "code",
      "metadata": {
        "id": "mBxf3bRId-ro",
        "colab_type": "code",
        "colab": {}
      },
      "source": [
        "import math\n",
        "import scipy as sp\n",
        "import numpy as np\n",
        "from sklearn import metrics\n",
        "\n",
        "def perturbation_rank(model, x, y, names, regression):\n",
        "  errors = []\n",
        "  \n",
        "  for i in range(x.shape[1]):\n",
        "    hold = np.array(x[:, i])\n",
        "    np.random.shuffle(x[:, i])\n",
        "    \n",
        "    if regression:\n",
        "      pred = model.predict(x)\n",
        "      error = metrics.log_loss(y, pred)\n",
        "      \n",
        "    else :\n",
        "      pred = model.predict_proba(x)\n",
        "      error = metrics.log_loss(y, pred)\n",
        "      \n",
        "    errors.append(error)\n",
        "    x[:, i] = hold\n",
        "    \n",
        "    max_error = np.max(errors)\n",
        "    importance = [e/max_error for e in errors]\n",
        "    \n",
        "    data = {'name':names, 'error':errors, 'importance':importance}\n",
        "    result = pd.DataFrame(data, columns = ['name', 'error', 'importance'])\n",
        "    result.sort_values(by=['importance'], ascending=[0], inplace=True)\n",
        "    "
      ],
      "execution_count": 0,
      "outputs": []
    }
  ]
}