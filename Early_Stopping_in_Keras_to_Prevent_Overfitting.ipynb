{
  "nbformat": 4,
  "nbformat_minor": 0,
  "metadata": {
    "colab": {
      "name": "Early Stopping in Keras to Prevent Overfitting",
      "version": "0.3.2",
      "provenance": [],
      "include_colab_link": true
    },
    "kernelspec": {
      "name": "python3",
      "display_name": "Python 3"
    }
  },
  "cells": [
    {
      "cell_type": "markdown",
      "metadata": {
        "id": "view-in-github",
        "colab_type": "text"
      },
      "source": [
        "<a href=\"https://colab.research.google.com/github/abhinavpy/Tensorflow-Keras-Tutorials/blob/master/Early_Stopping_in_Keras_to_Prevent_Overfitting.ipynb\" target=\"_parent\"><img src=\"https://colab.research.google.com/assets/colab-badge.svg\" alt=\"Open In Colab\"/></a>"
      ]
    },
    {
      "cell_type": "markdown",
      "metadata": {
        "id": "wTqxfoklxYbd",
        "colab_type": "text"
      },
      "source": [
        "# Early stopping in Keras to Prevent Overfitting\n",
        "Overfitting occurs when a neural network is trained to the point that it begins to memorize\n",
        "rather than generalize\n",
        "\n",
        "It is important to segment the original dataset into several datdasets:\n",
        "\n",
        "1. Training Set\n",
        "2. Validation Set\n",
        "3. Holdout Set\n",
        "\n",
        "There are several different ways that these sets can be constructed. The following programs demonstrate some of these.\n",
        "\n",
        "The first method is a training and validation set. The training data are used to train the neural network until the validation set no longer improves. This attempt to stop at a near optimal training point. This method will only give accurate \"out of sample\" predictions for the validation set, this is usually 20% or so of the data. The predictions for the training data will be overly oprimistic, as these were the data that the neural network was trained on."
      ]
    },
    {
      "cell_type": "code",
      "metadata": {
        "id": "u0AXcYpTxK6A",
        "colab_type": "code",
        "colab": {
          "base_uri": "https://localhost:8080/",
          "height": 1000
        },
        "outputId": "361bc3fe-83bd-421b-edfe-75527a7219a8"
      },
      "source": [
        "import pandas as pd\n",
        "import io\n",
        "import requests\n",
        "import numpy as np\n",
        "from sklearn import metrics\n",
        "from sklearn.model_selection import train_test_split\n",
        "from tensorflow.keras.models import Sequential\n",
        "from tensorflow.keras.layers import Dense, Activation\n",
        "from tensorflow.keras.callbacks import EarlyStopping\n",
        "\n",
        "df = pd.read_csv(\"https://data.heatonresearch.com/data/t81-558/iris.csv\", na_values=['NA', '?'])\n",
        "\n",
        "# Convert to numpy - Classification\n",
        "x = df[['sepal_l', 'sepal_w', 'petal_l', 'petal_w']].values\n",
        "dummies = pd.get_dummies(df['species']) # Classification\n",
        "species = dummies.columns\n",
        "y = dummies.values\n",
        "\n",
        "# Split into validation and training sets\n",
        "x_train, x_test, y_train, y_test = train_test_split(x, y, test_size=0.25, random_state=42)\n",
        "\n",
        "# Build neural network\n",
        "model = Sequential()\n",
        "model.add(Dense(50, input_dim=x.shape[1], activation='relu')) # Hidden 1\n",
        "model.add(Dense(25, activation='relu')) # Hidden 2\n",
        "model.add(Dense(y.shape[1], activation='softmax')) # Output\n",
        "model.compile(loss='categorical_crossentropy', optimizer='adam')\n",
        "\n",
        "monitor = EarlyStopping(monitor='val_loss', min_delta=1e-3, patience=5, verbose=1,\n",
        "                       mode='auto',restore_best_weights=True)\n",
        "model.fit(x_train, y_train, validation_data=(x_test, y_test), callbacks=[monitor],\n",
        "         verbose=2, epochs=500)\n"
      ],
      "execution_count": 4,
      "outputs": [
        {
          "output_type": "stream",
          "text": [
            "Train on 112 samples, validate on 38 samples\n",
            "Epoch 1/500\n",
            "112/112 - 0s - loss: 1.2291 - val_loss: 1.0696\n",
            "Epoch 2/500\n",
            "112/112 - 0s - loss: 1.0807 - val_loss: 0.9657\n",
            "Epoch 3/500\n",
            "112/112 - 0s - loss: 0.9728 - val_loss: 0.9067\n",
            "Epoch 4/500\n",
            "112/112 - 0s - loss: 0.9178 - val_loss: 0.8739\n",
            "Epoch 5/500\n",
            "112/112 - 0s - loss: 0.8800 - val_loss: 0.8423\n",
            "Epoch 6/500\n",
            "112/112 - 0s - loss: 0.8475 - val_loss: 0.8087\n",
            "Epoch 7/500\n",
            "112/112 - 0s - loss: 0.8142 - val_loss: 0.7752\n",
            "Epoch 8/500\n",
            "112/112 - 0s - loss: 0.7818 - val_loss: 0.7396\n",
            "Epoch 9/500\n",
            "112/112 - 0s - loss: 0.7491 - val_loss: 0.7013\n",
            "Epoch 10/500\n",
            "112/112 - 0s - loss: 0.7182 - val_loss: 0.6648\n",
            "Epoch 11/500\n",
            "112/112 - 0s - loss: 0.6881 - val_loss: 0.6317\n",
            "Epoch 12/500\n",
            "112/112 - 0s - loss: 0.6597 - val_loss: 0.6010\n",
            "Epoch 13/500\n",
            "112/112 - 0s - loss: 0.6351 - val_loss: 0.5750\n",
            "Epoch 14/500\n",
            "112/112 - 0s - loss: 0.6107 - val_loss: 0.5520\n",
            "Epoch 15/500\n",
            "112/112 - 0s - loss: 0.5880 - val_loss: 0.5315\n",
            "Epoch 16/500\n",
            "112/112 - 0s - loss: 0.5652 - val_loss: 0.5113\n",
            "Epoch 17/500\n",
            "112/112 - 0s - loss: 0.5459 - val_loss: 0.4922\n",
            "Epoch 18/500\n",
            "112/112 - 0s - loss: 0.5278 - val_loss: 0.4725\n",
            "Epoch 19/500\n",
            "112/112 - 0s - loss: 0.5087 - val_loss: 0.4545\n",
            "Epoch 20/500\n",
            "112/112 - 0s - loss: 0.4927 - val_loss: 0.4380\n",
            "Epoch 21/500\n",
            "112/112 - 0s - loss: 0.4768 - val_loss: 0.4241\n",
            "Epoch 22/500\n",
            "112/112 - 0s - loss: 0.4627 - val_loss: 0.4120\n",
            "Epoch 23/500\n",
            "112/112 - 0s - loss: 0.4478 - val_loss: 0.3989\n",
            "Epoch 24/500\n",
            "112/112 - 0s - loss: 0.4346 - val_loss: 0.3858\n",
            "Epoch 25/500\n",
            "112/112 - 0s - loss: 0.4226 - val_loss: 0.3730\n",
            "Epoch 26/500\n",
            "112/112 - 0s - loss: 0.4093 - val_loss: 0.3623\n",
            "Epoch 27/500\n",
            "112/112 - 0s - loss: 0.3973 - val_loss: 0.3509\n",
            "Epoch 28/500\n",
            "112/112 - 0s - loss: 0.3846 - val_loss: 0.3415\n",
            "Epoch 29/500\n",
            "112/112 - 0s - loss: 0.3756 - val_loss: 0.3304\n",
            "Epoch 30/500\n",
            "112/112 - 0s - loss: 0.3642 - val_loss: 0.3206\n",
            "Epoch 31/500\n",
            "112/112 - 0s - loss: 0.3520 - val_loss: 0.3140\n",
            "Epoch 32/500\n",
            "112/112 - 0s - loss: 0.3448 - val_loss: 0.3065\n",
            "Epoch 33/500\n",
            "112/112 - 0s - loss: 0.3372 - val_loss: 0.2985\n",
            "Epoch 34/500\n",
            "112/112 - 0s - loss: 0.3273 - val_loss: 0.2892\n",
            "Epoch 35/500\n",
            "112/112 - 0s - loss: 0.3181 - val_loss: 0.2816\n",
            "Epoch 36/500\n",
            "112/112 - 0s - loss: 0.3078 - val_loss: 0.2731\n",
            "Epoch 37/500\n",
            "112/112 - 0s - loss: 0.3005 - val_loss: 0.2650\n",
            "Epoch 38/500\n",
            "112/112 - 0s - loss: 0.2928 - val_loss: 0.2573\n",
            "Epoch 39/500\n",
            "112/112 - 0s - loss: 0.2837 - val_loss: 0.2499\n",
            "Epoch 40/500\n",
            "112/112 - 0s - loss: 0.2776 - val_loss: 0.2431\n",
            "Epoch 41/500\n",
            "112/112 - 0s - loss: 0.2721 - val_loss: 0.2409\n",
            "Epoch 42/500\n",
            "112/112 - 0s - loss: 0.2655 - val_loss: 0.2315\n",
            "Epoch 43/500\n",
            "112/112 - 0s - loss: 0.2552 - val_loss: 0.2267\n",
            "Epoch 44/500\n",
            "112/112 - 0s - loss: 0.2489 - val_loss: 0.2216\n",
            "Epoch 45/500\n",
            "112/112 - 0s - loss: 0.2425 - val_loss: 0.2150\n",
            "Epoch 46/500\n",
            "112/112 - 0s - loss: 0.2381 - val_loss: 0.2094\n",
            "Epoch 47/500\n",
            "112/112 - 0s - loss: 0.2309 - val_loss: 0.2051\n",
            "Epoch 48/500\n",
            "112/112 - 0s - loss: 0.2246 - val_loss: 0.1995\n",
            "Epoch 49/500\n",
            "112/112 - 0s - loss: 0.2192 - val_loss: 0.1939\n",
            "Epoch 50/500\n",
            "112/112 - 0s - loss: 0.2144 - val_loss: 0.1899\n",
            "Epoch 51/500\n",
            "112/112 - 0s - loss: 0.2100 - val_loss: 0.1879\n",
            "Epoch 52/500\n",
            "112/112 - 0s - loss: 0.2041 - val_loss: 0.1811\n",
            "Epoch 53/500\n",
            "112/112 - 0s - loss: 0.1986 - val_loss: 0.1760\n",
            "Epoch 54/500\n",
            "112/112 - 0s - loss: 0.1960 - val_loss: 0.1720\n",
            "Epoch 55/500\n",
            "112/112 - 0s - loss: 0.1916 - val_loss: 0.1693\n",
            "Epoch 56/500\n",
            "112/112 - 0s - loss: 0.1863 - val_loss: 0.1742\n",
            "Epoch 57/500\n",
            "112/112 - 0s - loss: 0.1860 - val_loss: 0.1639\n",
            "Epoch 58/500\n",
            "112/112 - 0s - loss: 0.1780 - val_loss: 0.1576\n",
            "Epoch 59/500\n",
            "112/112 - 0s - loss: 0.1743 - val_loss: 0.1544\n",
            "Epoch 60/500\n",
            "112/112 - 0s - loss: 0.1711 - val_loss: 0.1525\n",
            "Epoch 61/500\n",
            "112/112 - 0s - loss: 0.1669 - val_loss: 0.1480\n",
            "Epoch 62/500\n",
            "112/112 - 0s - loss: 0.1637 - val_loss: 0.1445\n",
            "Epoch 63/500\n",
            "112/112 - 0s - loss: 0.1610 - val_loss: 0.1414\n",
            "Epoch 64/500\n",
            "112/112 - 0s - loss: 0.1566 - val_loss: 0.1430\n",
            "Epoch 65/500\n",
            "112/112 - 0s - loss: 0.1559 - val_loss: 0.1411\n",
            "Epoch 66/500\n",
            "112/112 - 0s - loss: 0.1518 - val_loss: 0.1336\n",
            "Epoch 67/500\n",
            "112/112 - 0s - loss: 0.1492 - val_loss: 0.1319\n",
            "Epoch 68/500\n",
            "112/112 - 0s - loss: 0.1463 - val_loss: 0.1295\n",
            "Epoch 69/500\n",
            "112/112 - 0s - loss: 0.1476 - val_loss: 0.1301\n",
            "Epoch 70/500\n",
            "112/112 - 0s - loss: 0.1414 - val_loss: 0.1241\n",
            "Epoch 71/500\n",
            "112/112 - 0s - loss: 0.1410 - val_loss: 0.1213\n",
            "Epoch 72/500\n",
            "112/112 - 0s - loss: 0.1419 - val_loss: 0.1277\n",
            "Epoch 73/500\n",
            "112/112 - 0s - loss: 0.1367 - val_loss: 0.1207\n",
            "Epoch 74/500\n",
            "112/112 - 0s - loss: 0.1323 - val_loss: 0.1189\n",
            "Epoch 75/500\n",
            "112/112 - 0s - loss: 0.1309 - val_loss: 0.1170\n",
            "Epoch 76/500\n",
            "112/112 - 0s - loss: 0.1284 - val_loss: 0.1179\n",
            "Epoch 77/500\n",
            "112/112 - 0s - loss: 0.1305 - val_loss: 0.1140\n",
            "Epoch 78/500\n",
            "112/112 - 0s - loss: 0.1277 - val_loss: 0.1242\n",
            "Epoch 79/500\n",
            "112/112 - 0s - loss: 0.1312 - val_loss: 0.1149\n",
            "Epoch 80/500\n",
            "112/112 - 0s - loss: 0.1241 - val_loss: 0.1046\n",
            "Epoch 81/500\n",
            "112/112 - 0s - loss: 0.1236 - val_loss: 0.1042\n",
            "Epoch 82/500\n",
            "112/112 - 0s - loss: 0.1187 - val_loss: 0.1102\n",
            "Epoch 83/500\n",
            "112/112 - 0s - loss: 0.1198 - val_loss: 0.1097\n",
            "Epoch 84/500\n",
            "112/112 - 0s - loss: 0.1159 - val_loss: 0.1015\n",
            "Epoch 85/500\n",
            "112/112 - 0s - loss: 0.1154 - val_loss: 0.0986\n",
            "Epoch 86/500\n",
            "112/112 - 0s - loss: 0.1149 - val_loss: 0.0963\n",
            "Epoch 87/500\n",
            "112/112 - 0s - loss: 0.1132 - val_loss: 0.1002\n",
            "Epoch 88/500\n",
            "112/112 - 0s - loss: 0.1119 - val_loss: 0.1019\n",
            "Epoch 89/500\n",
            "112/112 - 0s - loss: 0.1107 - val_loss: 0.1015\n",
            "Epoch 90/500\n",
            "112/112 - 0s - loss: 0.1102 - val_loss: 0.0966\n",
            "Epoch 91/500\n",
            "112/112 - 0s - loss: 0.1078 - val_loss: 0.0947\n",
            "Epoch 92/500\n",
            "112/112 - 0s - loss: 0.1067 - val_loss: 0.0958\n",
            "Epoch 93/500\n",
            "112/112 - 0s - loss: 0.1055 - val_loss: 0.0982\n",
            "Epoch 94/500\n",
            "112/112 - 0s - loss: 0.1067 - val_loss: 0.0930\n",
            "Epoch 95/500\n",
            "112/112 - 0s - loss: 0.1048 - val_loss: 0.0932\n",
            "Epoch 96/500\n",
            "112/112 - 0s - loss: 0.1029 - val_loss: 0.0876\n",
            "Epoch 97/500\n",
            "112/112 - 0s - loss: 0.1026 - val_loss: 0.0885\n",
            "Epoch 98/500\n",
            "112/112 - 0s - loss: 0.1012 - val_loss: 0.0879\n",
            "Epoch 99/500\n",
            "112/112 - 0s - loss: 0.1002 - val_loss: 0.0879\n",
            "Epoch 100/500\n",
            "112/112 - 0s - loss: 0.1011 - val_loss: 0.0864\n",
            "Epoch 101/500\n",
            "112/112 - 0s - loss: 0.1008 - val_loss: 0.0989\n",
            "Epoch 102/500\n",
            "112/112 - 0s - loss: 0.1020 - val_loss: 0.0881\n",
            "Epoch 103/500\n",
            "112/112 - 0s - loss: 0.0974 - val_loss: 0.0871\n",
            "Epoch 104/500\n",
            "112/112 - 0s - loss: 0.0970 - val_loss: 0.0806\n",
            "Epoch 105/500\n",
            "112/112 - 0s - loss: 0.0963 - val_loss: 0.0824\n",
            "Epoch 106/500\n",
            "112/112 - 0s - loss: 0.0950 - val_loss: 0.0834\n",
            "Epoch 107/500\n",
            "112/112 - 0s - loss: 0.0941 - val_loss: 0.0863\n",
            "Epoch 108/500\n",
            "112/112 - 0s - loss: 0.0954 - val_loss: 0.0827\n",
            "Epoch 109/500\n",
            "112/112 - 0s - loss: 0.0934 - val_loss: 0.0770\n",
            "Epoch 110/500\n",
            "112/112 - 0s - loss: 0.0937 - val_loss: 0.0796\n",
            "Epoch 111/500\n",
            "112/112 - 0s - loss: 0.0961 - val_loss: 0.0836\n",
            "Epoch 112/500\n",
            "112/112 - 0s - loss: 0.0918 - val_loss: 0.0741\n",
            "Epoch 113/500\n",
            "112/112 - 0s - loss: 0.0928 - val_loss: 0.0746\n",
            "Epoch 114/500\n",
            "112/112 - 0s - loss: 0.0912 - val_loss: 0.0773\n",
            "Epoch 115/500\n",
            "112/112 - 0s - loss: 0.0983 - val_loss: 0.0932\n",
            "Epoch 116/500\n",
            "112/112 - 0s - loss: 0.0927 - val_loss: 0.0759\n",
            "Epoch 117/500\n",
            "Restoring model weights from the end of the best epoch.\n",
            "112/112 - 0s - loss: 0.0886 - val_loss: 0.0735\n",
            "Epoch 00117: early stopping\n"
          ],
          "name": "stdout"
        },
        {
          "output_type": "execute_result",
          "data": {
            "text/plain": [
              "<tensorflow.python.keras.callbacks.History at 0x7fed962dcb38>"
            ]
          },
          "metadata": {
            "tags": []
          },
          "execution_count": 4
        }
      ]
    },
    {
      "cell_type": "markdown",
      "metadata": {
        "id": "Sh5oEi208Tr7",
        "colab_type": "text"
      },
      "source": [
        "**_As you can see from above, the entire number of requested epochs were not used. The neural network training stopped once the validation set no lonnger improved._**"
      ]
    },
    {
      "cell_type": "code",
      "metadata": {
        "id": "j5QuhwUB7RVx",
        "colab_type": "code",
        "colab": {
          "base_uri": "https://localhost:8080/",
          "height": 35
        },
        "outputId": "ecab998c-8454-44d4-efaa-eaf53df79c82"
      },
      "source": [
        "from sklearn.metrics import accuracy_score\n",
        "pred = model.predict(x_test)\n",
        "predict_classes = np.argmax(pred, axis = 1)\n",
        "expected_classes = np.argmax(y_test, axis = 1)\n",
        "correct = accuracy_score(expected_classes, predict_classes)\n",
        "print(f\"Accuracy: {correct}\")"
      ],
      "execution_count": 5,
      "outputs": [
        {
          "output_type": "stream",
          "text": [
            "Accuracy: 1.0\n"
          ],
          "name": "stdout"
        }
      ]
    },
    {
      "cell_type": "markdown",
      "metadata": {
        "id": "Hvkn_n_Q9FXP",
        "colab_type": "text"
      },
      "source": [
        "## Early stopping with Regression"
      ]
    },
    {
      "cell_type": "code",
      "metadata": {
        "id": "J0aUKMBK9DH3",
        "colab_type": "code",
        "colab": {
          "base_uri": "https://localhost:8080/",
          "height": 378
        },
        "outputId": "d55462b4-c99c-48e8-93b4-3986133e4f7f"
      },
      "source": [
        "from tensorflow.keras.models import Sequential\n",
        "from tensorflow.keras.layers import Dense, Activation\n",
        "import pandas as pd\n",
        "import io\n",
        "import os\n",
        "import requests\n",
        "import numpy as np\n",
        "from sklearn import metrics\n",
        "\n",
        "df = pd.read_csv(\"https://data.heatonresearch.com/data/t81-558/auto-mpg.csv\",\n",
        "                na_values=['NA', '?'])\n",
        "cars = df['name']\n",
        "\n",
        "# Handle missing value\n",
        "df['horsepower'] = df['horsepower'].fillna(df['horsepower'].median())\n",
        "\n",
        "# pandas to numpy\n",
        "x = df[['cylinders', 'displacement', 'horsepower', 'weight',\n",
        "       'acceleration', 'year', 'origin']].values\n",
        "y = df['mpg'].values # regression\n",
        "\n",
        "# Split into validation and training sets\n",
        "x_train, y_test, y_train, y_test = train_test_split(x,y,test_size=0.25, random_state=42)\n",
        "\n",
        "#Build the neural network \n",
        "model = Sequential()\n",
        "model.add(Dense(25, input_dim=x.shape[1], activation='relu')) # Hidden 1\n",
        "model.add(Dense(10, activation='relu')) # Hidden 2\n",
        "model.add(Dense(1)) # Output\n",
        "model.compile(loss = 'mean_squared_error', optimizer='adam')\n",
        "\n",
        "monitor = EarlyStopping(monitor='val_loss', min_delta=1e-3, patience=5, verbose = 1,\n",
        "                       mode = 'auto', restore_best_weights = True)\n",
        "model.fit(x_train, y_train, validation_data=(x_test, y_test), callbacks=[monitor], verbose=2, epochs=1000)"
      ],
      "execution_count": 11,
      "outputs": [
        {
          "output_type": "error",
          "ename": "ValueError",
          "evalue": "ignored",
          "traceback": [
            "\u001b[0;31m---------------------------------------------------------------------------\u001b[0m",
            "\u001b[0;31mValueError\u001b[0m                                Traceback (most recent call last)",
            "\u001b[0;32m<ipython-input-11-d87fd695c09e>\u001b[0m in \u001b[0;36m<module>\u001b[0;34m()\u001b[0m\n\u001b[1;32m     33\u001b[0m                        mode = 'auto', restore_best_weights = True)\n\u001b[1;32m     34\u001b[0m model.fit(x_train, y_train, validation_data=(x_test, y_test), callbacks=[monitor],\n\u001b[0;32m---> 35\u001b[0;31m          verbose=2, epochs=1000)\n\u001b[0m",
            "\u001b[0;32m/usr/local/lib/python3.6/dist-packages/tensorflow/python/keras/engine/training.py\u001b[0m in \u001b[0;36mfit\u001b[0;34m(self, x, y, batch_size, epochs, verbose, callbacks, validation_split, validation_data, shuffle, class_weight, sample_weight, initial_epoch, steps_per_epoch, validation_steps, validation_freq, max_queue_size, workers, use_multiprocessing, **kwargs)\u001b[0m\n\u001b[1;32m    719\u001b[0m           \u001b[0mbatch_size\u001b[0m\u001b[0;34m=\u001b[0m\u001b[0mbatch_size\u001b[0m\u001b[0;34m,\u001b[0m\u001b[0;34m\u001b[0m\u001b[0;34m\u001b[0m\u001b[0m\n\u001b[1;32m    720\u001b[0m           \u001b[0msteps\u001b[0m\u001b[0;34m=\u001b[0m\u001b[0mvalidation_steps\u001b[0m\u001b[0;34m,\u001b[0m\u001b[0;34m\u001b[0m\u001b[0;34m\u001b[0m\u001b[0m\n\u001b[0;32m--> 721\u001b[0;31m           steps_name='validation_steps')\n\u001b[0m\u001b[1;32m    722\u001b[0m     \u001b[0;32melif\u001b[0m \u001b[0mvalidation_split\u001b[0m \u001b[0;32mand\u001b[0m \u001b[0;36m0.\u001b[0m \u001b[0;34m<\u001b[0m \u001b[0mvalidation_split\u001b[0m \u001b[0;34m<\u001b[0m \u001b[0;36m1.\u001b[0m\u001b[0;34m:\u001b[0m\u001b[0;34m\u001b[0m\u001b[0;34m\u001b[0m\u001b[0m\n\u001b[1;32m    723\u001b[0m       \u001b[0;32mif\u001b[0m \u001b[0mtraining_utils\u001b[0m\u001b[0;34m.\u001b[0m\u001b[0mhas_symbolic_tensors\u001b[0m\u001b[0;34m(\u001b[0m\u001b[0mx\u001b[0m\u001b[0;34m)\u001b[0m\u001b[0;34m:\u001b[0m\u001b[0;34m\u001b[0m\u001b[0;34m\u001b[0m\u001b[0m\n",
            "\u001b[0;32m/usr/local/lib/python3.6/dist-packages/tensorflow/python/keras/engine/training.py\u001b[0m in \u001b[0;36m_standardize_user_data\u001b[0;34m(self, x, y, sample_weight, class_weight, batch_size, check_steps, steps_name, steps, validation_split, shuffle, extract_tensors_from_dataset)\u001b[0m\n\u001b[1;32m   2649\u001b[0m           \u001b[0mfeed_input_shapes\u001b[0m\u001b[0;34m,\u001b[0m\u001b[0;34m\u001b[0m\u001b[0;34m\u001b[0m\u001b[0m\n\u001b[1;32m   2650\u001b[0m           \u001b[0mcheck_batch_axis\u001b[0m\u001b[0;34m=\u001b[0m\u001b[0;32mFalse\u001b[0m\u001b[0;34m,\u001b[0m  \u001b[0;31m# Don't enforce the batch size.\u001b[0m\u001b[0;34m\u001b[0m\u001b[0;34m\u001b[0m\u001b[0m\n\u001b[0;32m-> 2651\u001b[0;31m           exception_prefix='input')\n\u001b[0m\u001b[1;32m   2652\u001b[0m \u001b[0;34m\u001b[0m\u001b[0m\n\u001b[1;32m   2653\u001b[0m     \u001b[0;32mif\u001b[0m \u001b[0my\u001b[0m \u001b[0;32mis\u001b[0m \u001b[0;32mnot\u001b[0m \u001b[0;32mNone\u001b[0m\u001b[0;34m:\u001b[0m\u001b[0;34m\u001b[0m\u001b[0;34m\u001b[0m\u001b[0m\n",
            "\u001b[0;32m/usr/local/lib/python3.6/dist-packages/tensorflow/python/keras/engine/training_utils.py\u001b[0m in \u001b[0;36mstandardize_input_data\u001b[0;34m(data, names, shapes, check_batch_axis, exception_prefix)\u001b[0m\n\u001b[1;32m    383\u001b[0m                              \u001b[0;34m': expected '\u001b[0m \u001b[0;34m+\u001b[0m \u001b[0mnames\u001b[0m\u001b[0;34m[\u001b[0m\u001b[0mi\u001b[0m\u001b[0;34m]\u001b[0m \u001b[0;34m+\u001b[0m \u001b[0;34m' to have shape '\u001b[0m \u001b[0;34m+\u001b[0m\u001b[0;34m\u001b[0m\u001b[0;34m\u001b[0m\u001b[0m\n\u001b[1;32m    384\u001b[0m                              \u001b[0mstr\u001b[0m\u001b[0;34m(\u001b[0m\u001b[0mshape\u001b[0m\u001b[0;34m)\u001b[0m \u001b[0;34m+\u001b[0m \u001b[0;34m' but got array with shape '\u001b[0m \u001b[0;34m+\u001b[0m\u001b[0;34m\u001b[0m\u001b[0;34m\u001b[0m\u001b[0m\n\u001b[0;32m--> 385\u001b[0;31m                              str(data_shape))\n\u001b[0m\u001b[1;32m    386\u001b[0m   \u001b[0;32mreturn\u001b[0m \u001b[0mdata\u001b[0m\u001b[0;34m\u001b[0m\u001b[0;34m\u001b[0m\u001b[0m\n\u001b[1;32m    387\u001b[0m \u001b[0;34m\u001b[0m\u001b[0m\n",
            "\u001b[0;31mValueError\u001b[0m: Error when checking input: expected dense_15_input to have shape (7,) but got array with shape (4,)"
          ]
        }
      ]
    },
    {
      "cell_type": "code",
      "metadata": {
        "id": "xPBLqQ_m9v_-",
        "colab_type": "code",
        "colab": {
          "base_uri": "https://localhost:8080/",
          "height": 378
        },
        "outputId": "dbc7ce63-84a8-460b-85e9-a36e42613af5"
      },
      "source": [
        "# Measure RMSE Error. RMSE is common for regression\n",
        "pred = model.predict(x_test)\n",
        "score = np.sqrt(metrics.mean_squared_error(pred, y_test))\n",
        "print(f\"Final score: (RMSE): {score}\")"
      ],
      "execution_count": 12,
      "outputs": [
        {
          "output_type": "error",
          "ename": "ValueError",
          "evalue": "ignored",
          "traceback": [
            "\u001b[0;31m---------------------------------------------------------------------------\u001b[0m",
            "\u001b[0;31mValueError\u001b[0m                                Traceback (most recent call last)",
            "\u001b[0;32m<ipython-input-12-45b49c33a119>\u001b[0m in \u001b[0;36m<module>\u001b[0;34m()\u001b[0m\n\u001b[0;32m----> 1\u001b[0;31m \u001b[0mpred\u001b[0m \u001b[0;34m=\u001b[0m \u001b[0mmodel\u001b[0m\u001b[0;34m.\u001b[0m\u001b[0mpredict\u001b[0m\u001b[0;34m(\u001b[0m\u001b[0mx_test\u001b[0m\u001b[0;34m)\u001b[0m\u001b[0;34m\u001b[0m\u001b[0;34m\u001b[0m\u001b[0m\n\u001b[0m\u001b[1;32m      2\u001b[0m \u001b[0mscore\u001b[0m \u001b[0;34m=\u001b[0m \u001b[0mnp\u001b[0m\u001b[0;34m.\u001b[0m\u001b[0msqrt\u001b[0m\u001b[0;34m(\u001b[0m\u001b[0mmetrics\u001b[0m\u001b[0;34m.\u001b[0m\u001b[0mmean_squared_error\u001b[0m\u001b[0;34m(\u001b[0m\u001b[0mpred\u001b[0m\u001b[0;34m,\u001b[0m \u001b[0my_test\u001b[0m\u001b[0;34m)\u001b[0m\u001b[0;34m)\u001b[0m\u001b[0;34m\u001b[0m\u001b[0;34m\u001b[0m\u001b[0m\n\u001b[1;32m      3\u001b[0m \u001b[0mprint\u001b[0m\u001b[0;34m(\u001b[0m\u001b[0;34mf\"Final score: (RMSE): {score}\"\u001b[0m\u001b[0;34m)\u001b[0m\u001b[0;34m\u001b[0m\u001b[0;34m\u001b[0m\u001b[0m\n",
            "\u001b[0;32m/usr/local/lib/python3.6/dist-packages/tensorflow/python/keras/engine/training.py\u001b[0m in \u001b[0;36mpredict\u001b[0;34m(self, x, batch_size, verbose, steps, callbacks, max_queue_size, workers, use_multiprocessing)\u001b[0m\n\u001b[1;32m   1058\u001b[0m     \u001b[0;31m# generate symbolic tensors).\u001b[0m\u001b[0;34m\u001b[0m\u001b[0;34m\u001b[0m\u001b[0;34m\u001b[0m\u001b[0m\n\u001b[1;32m   1059\u001b[0m     x, _, _ = self._standardize_user_data(\n\u001b[0;32m-> 1060\u001b[0;31m         x, check_steps=True, steps_name='steps', steps=steps)\n\u001b[0m\u001b[1;32m   1061\u001b[0m \u001b[0;34m\u001b[0m\u001b[0m\n\u001b[1;32m   1062\u001b[0m     \u001b[0;32mif\u001b[0m \u001b[0mself\u001b[0m\u001b[0;34m.\u001b[0m\u001b[0mrun_eagerly\u001b[0m\u001b[0;34m:\u001b[0m\u001b[0;34m\u001b[0m\u001b[0;34m\u001b[0m\u001b[0m\n",
            "\u001b[0;32m/usr/local/lib/python3.6/dist-packages/tensorflow/python/keras/engine/training.py\u001b[0m in \u001b[0;36m_standardize_user_data\u001b[0;34m(self, x, y, sample_weight, class_weight, batch_size, check_steps, steps_name, steps, validation_split, shuffle, extract_tensors_from_dataset)\u001b[0m\n\u001b[1;32m   2649\u001b[0m           \u001b[0mfeed_input_shapes\u001b[0m\u001b[0;34m,\u001b[0m\u001b[0;34m\u001b[0m\u001b[0;34m\u001b[0m\u001b[0m\n\u001b[1;32m   2650\u001b[0m           \u001b[0mcheck_batch_axis\u001b[0m\u001b[0;34m=\u001b[0m\u001b[0;32mFalse\u001b[0m\u001b[0;34m,\u001b[0m  \u001b[0;31m# Don't enforce the batch size.\u001b[0m\u001b[0;34m\u001b[0m\u001b[0;34m\u001b[0m\u001b[0m\n\u001b[0;32m-> 2651\u001b[0;31m           exception_prefix='input')\n\u001b[0m\u001b[1;32m   2652\u001b[0m \u001b[0;34m\u001b[0m\u001b[0m\n\u001b[1;32m   2653\u001b[0m     \u001b[0;32mif\u001b[0m \u001b[0my\u001b[0m \u001b[0;32mis\u001b[0m \u001b[0;32mnot\u001b[0m \u001b[0;32mNone\u001b[0m\u001b[0;34m:\u001b[0m\u001b[0;34m\u001b[0m\u001b[0;34m\u001b[0m\u001b[0m\n",
            "\u001b[0;32m/usr/local/lib/python3.6/dist-packages/tensorflow/python/keras/engine/training_utils.py\u001b[0m in \u001b[0;36mstandardize_input_data\u001b[0;34m(data, names, shapes, check_batch_axis, exception_prefix)\u001b[0m\n\u001b[1;32m    383\u001b[0m                              \u001b[0;34m': expected '\u001b[0m \u001b[0;34m+\u001b[0m \u001b[0mnames\u001b[0m\u001b[0;34m[\u001b[0m\u001b[0mi\u001b[0m\u001b[0;34m]\u001b[0m \u001b[0;34m+\u001b[0m \u001b[0;34m' to have shape '\u001b[0m \u001b[0;34m+\u001b[0m\u001b[0;34m\u001b[0m\u001b[0;34m\u001b[0m\u001b[0m\n\u001b[1;32m    384\u001b[0m                              \u001b[0mstr\u001b[0m\u001b[0;34m(\u001b[0m\u001b[0mshape\u001b[0m\u001b[0;34m)\u001b[0m \u001b[0;34m+\u001b[0m \u001b[0;34m' but got array with shape '\u001b[0m \u001b[0;34m+\u001b[0m\u001b[0;34m\u001b[0m\u001b[0;34m\u001b[0m\u001b[0m\n\u001b[0;32m--> 385\u001b[0;31m                              str(data_shape))\n\u001b[0m\u001b[1;32m    386\u001b[0m   \u001b[0;32mreturn\u001b[0m \u001b[0mdata\u001b[0m\u001b[0;34m\u001b[0m\u001b[0;34m\u001b[0m\u001b[0m\n\u001b[1;32m    387\u001b[0m \u001b[0;34m\u001b[0m\u001b[0m\n",
            "\u001b[0;31mValueError\u001b[0m: Error when checking input: expected dense_15_input to have shape (7,) but got array with shape (4,)"
          ]
        }
      ]
    },
    {
      "cell_type": "code",
      "metadata": {
        "id": "nd0nI8MvBesZ",
        "colab_type": "code",
        "colab": {}
      },
      "source": [
        ""
      ],
      "execution_count": 0,
      "outputs": []
    }
  ]
}