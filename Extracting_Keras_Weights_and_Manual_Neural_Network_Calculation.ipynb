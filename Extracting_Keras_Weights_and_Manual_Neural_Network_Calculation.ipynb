{
  "nbformat": 4,
  "nbformat_minor": 0,
  "metadata": {
    "colab": {
      "name": "Extracting Keras Weights and Manual Neural Network Calculation",
      "version": "0.3.2",
      "provenance": [],
      "include_colab_link": true
    },
    "kernelspec": {
      "name": "python3",
      "display_name": "Python 3"
    },
    "accelerator": "GPU"
  },
  "cells": [
    {
      "cell_type": "markdown",
      "metadata": {
        "id": "view-in-github",
        "colab_type": "text"
      },
      "source": [
        "<a href=\"https://colab.research.google.com/github/abhinavpy/Tensorflow-Keras-Tutorials/blob/master/Extracting_Keras_Weights_and_Manual_Neural_Network_Calculation.ipynb\" target=\"_parent\"><img src=\"https://colab.research.google.com/assets/colab-badge.svg\" alt=\"Open In Colab\"/></a>"
      ]
    },
    {
      "cell_type": "code",
      "metadata": {
        "id": "6E0SZwhSGD-y",
        "colab_type": "code",
        "outputId": "8b0e5e42-001c-42fc-e8aa-920f68340e9e",
        "colab": {
          "base_uri": "https://localhost:8080/",
          "height": 361
        }
      },
      "source": [
        "from keras.models import Sequential\n",
        "from keras.layers.core import Dense, Activation\n",
        "import numpy as np\n",
        "\n",
        "# Create a dataset for the XOR function\n",
        "x = np.array([[0,0],\n",
        "              [1,0],\n",
        "              [0,1],\n",
        "              [1,1]])\n",
        "y = np.array([\n",
        "    0,\n",
        "    1,\n",
        "    1,\n",
        "    0\n",
        "])\n",
        "\n",
        "# Build the network\n",
        "# sgd = oprimizers.SGD(lr=0.1, decay=1e-6, momentum=0.9, nesterov=True)\n",
        "\n",
        "model = Sequential()\n",
        "model.add(Dense(2, input_dim=2, activation='relu'))\n",
        "model.add(Dense(1))\n",
        "model.compile(loss='mean_squared_error', optimizer='adam')\n",
        "model.fit(x,y,verbose=0, epochs=100000)\n",
        "\n",
        "# Predict\n",
        "pred = model.predict(x)\n",
        "print(pred)\n"
      ],
      "execution_count": 0,
      "outputs": [
        {
          "output_type": "stream",
          "text": [
            "Using TensorFlow backend.\n",
            "WARNING: Logging before flag parsing goes to stderr.\n",
            "W0704 12:16:17.994740 140681837901696 deprecation_wrapper.py:119] From /usr/local/lib/python3.6/dist-packages/keras/backend/tensorflow_backend.py:74: The name tf.get_default_graph is deprecated. Please use tf.compat.v1.get_default_graph instead.\n",
            "\n",
            "W0704 12:16:18.014840 140681837901696 deprecation_wrapper.py:119] From /usr/local/lib/python3.6/dist-packages/keras/backend/tensorflow_backend.py:517: The name tf.placeholder is deprecated. Please use tf.compat.v1.placeholder instead.\n",
            "\n",
            "W0704 12:16:18.017871 140681837901696 deprecation_wrapper.py:119] From /usr/local/lib/python3.6/dist-packages/keras/backend/tensorflow_backend.py:4138: The name tf.random_uniform is deprecated. Please use tf.random.uniform instead.\n",
            "\n",
            "W0704 12:16:18.048696 140681837901696 deprecation_wrapper.py:119] From /usr/local/lib/python3.6/dist-packages/keras/optimizers.py:790: The name tf.train.Optimizer is deprecated. Please use tf.compat.v1.train.Optimizer instead.\n",
            "\n",
            "W0704 12:16:18.192511 140681837901696 deprecation_wrapper.py:119] From /usr/local/lib/python3.6/dist-packages/keras/backend/tensorflow_backend.py:986: The name tf.assign_add is deprecated. Please use tf.compat.v1.assign_add instead.\n",
            "\n",
            "W0704 12:16:18.270748 140681837901696 deprecation_wrapper.py:119] From /usr/local/lib/python3.6/dist-packages/keras/backend/tensorflow_backend.py:973: The name tf.assign is deprecated. Please use tf.compat.v1.assign instead.\n",
            "\n"
          ],
          "name": "stderr"
        },
        {
          "output_type": "stream",
          "text": [
            "[[0.33323202]\n",
            " [0.33323202]\n",
            " [0.99962497]\n",
            " [0.33323202]]\n"
          ],
          "name": "stdout"
        }
      ]
    },
    {
      "cell_type": "markdown",
      "metadata": {
        "id": "dkUDpwMU56Ms",
        "colab_type": "text"
      },
      "source": [
        "https://www.youtube.com/watch?v=7PWgx16kH8s&t=183s"
      ]
    },
    {
      "cell_type": "code",
      "metadata": {
        "id": "SRPcZ8NZHoMH",
        "colab_type": "code",
        "colab": {
          "base_uri": "https://localhost:8080/",
          "height": 179
        },
        "outputId": "dd75583b-177a-4f43-85d2-bf7022328118"
      },
      "source": [
        "# Dump Weights\n",
        "for layerNum, layer in enumerate(model.layers):\n",
        "  weights = layer.get_weights()[0]\n",
        "  biases = layer.get_weights()[1]\n",
        "  \n",
        "  for toNeuronNum, bias in enumerate(biases):\n",
        "    print(f'{layerNum}B -> L{layerNum + 1}N{toNeuronNum}: {bias}')\n",
        "    \n",
        "  for fromNeuronNum, wgt in enumerate(weights):\n",
        "    for toNeuronNum, wgt2, in enumerate(wgt):\n",
        "      print(f'L{layerNum}N{fromNeuronNum} -> {layerNum + 1}N{toNeuronNum} = {wgt2}')\n",
        "      "
      ],
      "execution_count": 2,
      "outputs": [
        {
          "output_type": "stream",
          "text": [
            "0B -> L1N0: 0.0\n",
            "0B -> L1N1: -0.029584869742393494\n",
            "L0N0 -> 1N0 = -1.0792614221572876\n",
            "L0N0 -> 1N1 = -0.74093097448349\n",
            "L0N1 -> 1N0 = -0.5511431694030762\n",
            "L0N1 -> 1N1 = 0.6788690090179443\n",
            "1B -> L2N0: 0.33323201537132263\n",
            "L1N0 -> 2N0 = 0.244193434715271\n",
            "L1N1 -> 2N0 = 1.0263503789901733\n"
          ],
          "name": "stdout"
        }
      ]
    },
    {
      "cell_type": "code",
      "metadata": {
        "id": "vBxD0Vwd_qKD",
        "colab_type": "code",
        "colab": {
          "base_uri": "https://localhost:8080/",
          "height": 35
        },
        "outputId": "4f5e33df-111e-487d-904b-1497cb7d4131"
      },
      "source": [
        "input0 = 1\n",
        "input1 = 0\n",
        "\n",
        "hidden0Sum = (input0 * 0.3) + (input1 * 1.3) + (-1.3)\n",
        "hidden1Sum = (input0 * 1.2) + (input1 * 1.2) + (0)\n",
        "\n",
        "hidden0 = max(0, hidden0Sum)\n",
        "hidden1 = max(0, hidden1Sum)\n",
        "\n",
        "outputSum = (hidden0 * -1.6) + (hidden1 * 1.8) + (0)\n",
        "output = max(0, outputSum)\n",
        "\n",
        "print(output)"
      ],
      "execution_count": 3,
      "outputs": [
        {
          "output_type": "stream",
          "text": [
            "2.16\n"
          ],
          "name": "stdout"
        }
      ]
    },
    {
      "cell_type": "code",
      "metadata": {
        "id": "4cfMlf1JA6jm",
        "colab_type": "code",
        "colab": {}
      },
      "source": [
        ""
      ],
      "execution_count": 0,
      "outputs": []
    }
  ]
}