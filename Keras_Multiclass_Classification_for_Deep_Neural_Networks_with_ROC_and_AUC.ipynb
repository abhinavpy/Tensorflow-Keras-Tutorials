{
  "nbformat": 4,
  "nbformat_minor": 0,
  "metadata": {
    "colab": {
      "name": "Keras Multiclass Classification for Deep Neural Networks with ROC and AUC ",
      "version": "0.3.2",
      "provenance": [],
      "include_colab_link": true
    },
    "kernelspec": {
      "name": "python3",
      "display_name": "Python 3"
    }
  },
  "cells": [
    {
      "cell_type": "markdown",
      "metadata": {
        "id": "view-in-github",
        "colab_type": "text"
      },
      "source": [
        "<a href=\"https://colab.research.google.com/github/abhinavpy/Tensorflow-Keras-Tutorials/blob/master/Keras_Multiclass_Classification_for_Deep_Neural_Networks_with_ROC_and_AUC.ipynb\" target=\"_parent\"><img src=\"https://colab.research.google.com/assets/colab-badge.svg\" alt=\"Open In Colab\"/></a>"
      ]
    },
    {
      "cell_type": "code",
      "metadata": {
        "id": "-U9K2f0OUDBJ",
        "colab_type": "code",
        "colab": {}
      },
      "source": [
        "import pandas as pd\n",
        "\n",
        "df = pd.read_csv(\"https://data.heatonresearch.com/data/t81-558/wcbreast_wdbc.csv\",\n",
        "                na_values = ['NA', '?'])"
      ],
      "execution_count": 0,
      "outputs": []
    },
    {
      "cell_type": "code",
      "metadata": {
        "id": "vZGBdztiYory",
        "colab_type": "code",
        "colab": {}
      },
      "source": [
        ""
      ],
      "execution_count": 0,
      "outputs": []
    },
    {
      "cell_type": "markdown",
      "metadata": {
        "id": "A0byBTsZZEcJ",
        "colab_type": "text"
      },
      "source": [
        "ROC Curves\n",
        "Binary classification is common in medical testing. Often you want to diagnose if someone has a diesease. This can lead to two type of errors, known as false positive and false negative.\n",
        "1. False Positive - Your (test) neural network indicated that the patient has disease; however the patient did not have disease.\n",
        "2. False Negative - Your test neural network indicated that the patient did not have the disease; however the patient did have the disease. \n",
        "3.  True Positive - Your neural network indicated that the patient had the disease correctly.\n",
        "4. True Negative - Your neural network indicated that the patient did not have the disease correctly."
      ]
    },
    {
      "cell_type": "code",
      "metadata": {
        "id": "Bc3xo0sjaOpG",
        "colab_type": "code",
        "outputId": "3c77b622-5498-4e20-a070-7ecd76b59822",
        "colab": {
          "base_uri": "https://localhost:8080/",
          "height": 282
        }
      },
      "source": [
        "import matplotlib.pyplot as plt\n",
        "import numpy as np\n",
        "import scipy.stats as stats\n",
        "import math\n",
        "\n",
        "mu1 = -2\n",
        "mu2 = 2\n",
        "\n",
        "variance = 1\n",
        "sigma = math.sqrt(variance)\n",
        "x1 = np.linspace(mu1 - 5*sigma, mu1 + 4*sigma, 100)\n",
        "x2 = np.linspace(mu2 - 5*sigma, mu2 + 4*sigma, 100)\n",
        "plt.plot(x1, stats.norm.pdf(x1, mu1, sigma)/1, color=\"green\")\n",
        "plt.plot(x2, stats.norm.pdf(x2, mu2, sigma)/1, color=\"red\")\n",
        "plt.axvline(x=-2, color=\"black\")\n",
        "plt.axvline(x=0, color=\"black\")\n",
        "plt.axvline(x=+2, color=\"black\")\n",
        "plt.text(-2.7, 0.55, \"Sensitive\")\n",
        "plt.text(-0.7, 0.55, \"Balanced\")\n",
        "plt.text(1.7, 0.55, \"Specific\")\n",
        "plt.ylim([0,0.53])\n",
        "plt.xlim([-5,5])\n",
        "plt.legend(['Negative', 'Positive'])\n",
        "plt.yticks([])\n",
        "plt.show()\n"
      ],
      "execution_count": 0,
      "outputs": [
        {
          "output_type": "display_data",
          "data": {
            "image/png": "[encoded data removed]",
            "text/plain": [
              "<Figure size 432x288 with 1 Axes>"
            ]
          },
          "metadata": {
            "tags": []
          }
        }
      ]
    },
    {
      "cell_type": "code",
      "metadata": {
        "id": "rddLEW2cb5W1",
        "colab_type": "code",
        "colab": {}
      },
      "source": [
        "from scipy.stats import zscore\n",
        "\n",
        "# Prepare data - apply zscore to all x columns\n",
        "# Only do this if you have no categoricals and are sure you want to use zscore \n",
        "x_columns = df.columns.drop('diagnosis').drop('id')\n",
        "for col in x_columns:\n",
        "  df[col] = zscore(df[col])\n",
        "  \n",
        "# Convert to numpy reegression\n",
        "x = df[x_columns].values\n",
        "y = df['diagnosis'].map({'M':1,\"B\":0}) # Binary Classification, M is 1 and B is 0\n",
        "\n"
      ],
      "execution_count": 0,
      "outputs": []
    },
    {
      "cell_type": "code",
      "metadata": {
        "id": "tNZVaHjL2TV_",
        "colab_type": "code",
        "colab": {}
      },
      "source": [
        "%matplotlib inline\n",
        "import matplotlib.pyplot as plt\n",
        "from sklearn.metrics import roc_curve, auc\n",
        "\n",
        "# Plot a confusion matrix\n",
        "# cm is the confusion matrix names are the names of the classes\n",
        "def plot_confusion_matrix(cm, names, title='confusion_matrix', cmap=plt.cm.Blues):\n",
        "  plt.imshow(cm, interpolation='nearest', cmap=cmap)\n",
        "  plt.title(title)\n",
        "  plt.colorbar()\n",
        "  tick_marks = np.arange(len(names))\n",
        "  plt.xticks(tick_marks, names, rotation=45)\n",
        "  plt.yticks(tick_marks, names)\n",
        "  plt.tight_layout()\n",
        "  plt.ylabel('True label')\n",
        "  plt.xlabel('Predicted label')\n",
        "  \n",
        "def plot_roc(pred, y):\n",
        "  fpr, tpr, _ = roc_curve(y, pred)\n",
        "  roc_auc = auc(fpr, tpr)\n",
        "  \n",
        "  plt.figure()\n",
        "  plt.plot(fpr, tpr, label='ROC curve (area = %0.2f)' % roc_auc)\n",
        "  plt.plot([0, 1], [0, 1], 'k--')\n",
        "  plt.xlim([0.0, 1.0])\n",
        "  plt.ylim([0.0, 1.05])\n",
        "  plt.xlabel('False Positive Rate')\n",
        "  plt.ylabel('True Positive Rate')\n",
        "  plt.title('Receiver Operating Characteristic (ROC)')\n",
        "  plt.legend(loc=\"lower right\")\n",
        "  plt.show()"
      ],
      "execution_count": 0,
      "outputs": []
    },
    {
      "cell_type": "markdown",
      "metadata": {
        "id": "AMg7C-gfkzFj",
        "colab_type": "text"
      },
      "source": [
        "ROC Chart Example\n"
      ]
    },
    {
      "cell_type": "code",
      "metadata": {
        "id": "_oJqT_8xkqev",
        "colab_type": "code",
        "outputId": "2f9bc34c-5974-4feb-9c6b-3873847c2723",
        "colab": {
          "base_uri": "https://localhost:8080/",
          "height": 703
        }
      },
      "source": [
        "# Classification neural network\n",
        "import numpy as np\n",
        "import tensorflow.keras\n",
        "from tensorflow.keras.models import Sequential\n",
        "from tensorflow.keras.layers import Dense, Activation\n",
        "from tensorflow.keras.callbacks import EarlyStopping\n",
        "from sklearn.model_selection import train_test_split\n",
        "\n",
        "# Split into train/test\n",
        "x_train, x_test, y_train, y_test = train_test_split(    \n",
        "    x, y, test_size=0.25, random_state=42)\n",
        "\n",
        "model = Sequential()\n",
        "model.add(Dense(100, input_dim=x.shape[1], activation='relu',kernel_initializer='random_normal'))\n",
        "model.add(Dense(50,activation='relu',kernel_initializer='random_normal'))\n",
        "model.add(Dense(25,activation='relu',kernel_initializer='random_normal'))\n",
        "model.add(Dense(1,activation='linear',kernel_initializer='random_normal'))\n",
        "model.compile(loss='binary_crossentropy', \n",
        "              optimizer=tensorflow.keras.optimizers.Adam(),\n",
        "              metrics =['accuracy'])\n",
        "monitor = EarlyStopping(monitor='val_loss', min_delta=1e-3, \n",
        "    patience=5, verbose=1, mode='auto', restore_best_weights=True)\n",
        "model.fit(x_train,y_train,validation_data=(x_test,y_test),callbacks=[monitor],verbose=2,epochs=1000)\n"
      ],
      "execution_count": 0,
      "outputs": [
        {
          "output_type": "stream",
          "text": [
            "WARNING: Logging before flag parsing goes to stderr.\n",
            "W0707 17:53:02.902077 139825990412160 deprecation.py:506] From /usr/local/lib/python3.6/dist-packages/tensorflow/python/keras/initializers.py:143: calling RandomNormal.__init__ (from tensorflow.python.ops.init_ops) with dtype is deprecated and will be removed in a future version.\n",
            "Instructions for updating:\n",
            "Call initializer instance with the dtype argument instead of passing it to the constructor\n",
            "W0707 17:53:03.201915 139825990412160 deprecation.py:323] From /usr/local/lib/python3.6/dist-packages/tensorflow/python/ops/math_grad.py:1250: add_dispatch_support.<locals>.wrapper (from tensorflow.python.ops.array_ops) is deprecated and will be removed in a future version.\n",
            "Instructions for updating:\n",
            "Use tf.where in 2.0, which has the same broadcast rule as np.where\n"
          ],
          "name": "stderr"
        },
        {
          "output_type": "stream",
          "text": [
            "Train on 426 samples, validate on 143 samples\n",
            "Epoch 1/1000\n",
            "426/426 - 0s - loss: 1.5461 - acc: 0.6291 - val_loss: 0.9387 - val_acc: 0.6224\n",
            "Epoch 2/1000\n",
            "426/426 - 0s - loss: 0.7647 - acc: 0.6315 - val_loss: 0.5334 - val_acc: 0.6713\n",
            "Epoch 3/1000\n",
            "426/426 - 0s - loss: 0.4293 - acc: 0.7512 - val_loss: 0.2513 - val_acc: 0.8811\n",
            "Epoch 4/1000\n",
            "426/426 - 0s - loss: 0.2428 - acc: 0.9155 - val_loss: 0.2289 - val_acc: 0.9510\n",
            "Epoch 5/1000\n",
            "426/426 - 0s - loss: 0.1692 - acc: 0.9413 - val_loss: 0.1901 - val_acc: 0.9650\n",
            "Epoch 6/1000\n",
            "426/426 - 0s - loss: 0.1058 - acc: 0.9648 - val_loss: 0.0761 - val_acc: 0.9790\n",
            "Epoch 7/1000\n",
            "426/426 - 0s - loss: 0.0809 - acc: 0.9765 - val_loss: 0.0657 - val_acc: 0.9930\n",
            "Epoch 8/1000\n",
            "426/426 - 0s - loss: 0.0671 - acc: 0.9836 - val_loss: 0.0612 - val_acc: 0.9860\n",
            "Epoch 9/1000\n",
            "426/426 - 0s - loss: 0.0585 - acc: 0.9859 - val_loss: 0.0604 - val_acc: 0.9860\n",
            "Epoch 10/1000\n",
            "426/426 - 0s - loss: 0.0529 - acc: 0.9859 - val_loss: 0.0612 - val_acc: 0.9860\n",
            "Epoch 11/1000\n",
            "426/426 - 0s - loss: 0.0495 - acc: 0.9859 - val_loss: 0.0608 - val_acc: 0.9860\n",
            "Epoch 12/1000\n",
            "426/426 - 0s - loss: 0.0453 - acc: 0.9883 - val_loss: 0.0617 - val_acc: 0.9860\n",
            "Epoch 13/1000\n",
            "Restoring model weights from the end of the best epoch.\n",
            "426/426 - 0s - loss: 0.0410 - acc: 0.9883 - val_loss: 0.0612 - val_acc: 0.9860\n",
            "Epoch 00013: early stopping\n"
          ],
          "name": "stdout"
        },
        {
          "output_type": "execute_result",
          "data": {
            "text/plain": [
              "<tensorflow.python.keras.callbacks.History at 0x7f2b83275748>"
            ]
          },
          "metadata": {
            "tags": []
          },
          "execution_count": 5
        }
      ]
    },
    {
      "cell_type": "code",
      "metadata": {
        "id": "4wAt_Wp2nPNS",
        "colab_type": "code",
        "outputId": "3f6685bc-e727-4192-d7b1-080404ac15bb",
        "colab": {
          "base_uri": "https://localhost:8080/",
          "height": 295
        }
      },
      "source": [
        "pred = model.predict(x_test)\n",
        "plot_roc(pred, y_test)"
      ],
      "execution_count": 0,
      "outputs": [
        {
          "output_type": "display_data",
          "data": {
            "image/png": "[encoded data removed]",
            "text/plain": [
              "<Figure size 432x288 with 1 Axes>"
            ]
          },
          "metadata": {
            "tags": []
          }
        }
      ]
    },
    {
      "cell_type": "markdown",
      "metadata": {
        "id": "jZT02a9HoELg",
        "colab_type": "text"
      },
      "source": [
        "## Multiclass Classification for Error Metrics\n",
        "\n",
        "The following sections will examine several metrics for evaluating classification error. The following classification neural network will be used to evaluate."
      ]
    },
    {
      "cell_type": "code",
      "metadata": {
        "id": "5UcT4DiVn4kG",
        "colab_type": "code",
        "colab": {}
      },
      "source": [
        "import pandas as pd\n",
        "from scipy.stats import zscore\n",
        "\n",
        "# Read the dataset\n",
        "df = pd.read_csv(\"https://data.heatonresearch.com/data/t81-558/jh-simple-dataset.csv\", na_values=['NA','?'])\n",
        "\n",
        "# Generate dummies for job\n",
        "df = pd.concat([df, pd.get_dummies(df['job'], prefix=\"job\")], axis=1)\n",
        "df.drop('job', axis=1, inplace=True)\n",
        "\n",
        "# Generate dummies for area\n",
        "df = pd.concat([df, pd.get_dummies(df['area'], prefix=\"area\")], axis=1)\n",
        "df.drop('area', axis=1, inplace=True)\n",
        "\n",
        "# Missing values for income\n",
        "med = df['income'].median()\n",
        "df['income'] = df['income'].fillna(med)\n",
        "\n",
        "# Standardize ranges\n",
        "df['income'] = zscore(df['income'])\n",
        "df['aspect'] = zscore(df['aspect'])\n",
        "df['save_rate'] = zscore(df['save_rate'])\n",
        "df['age'] = zscore(df['age'])\n",
        "df['subscriptions'] = zscore(df['subscriptions'])\n",
        "\n",
        "# Convert to numpy - Classification\n",
        "x_columns = df.columns.drop('product').drop('id')\n",
        "x = df[x_columns].values\n",
        "dummies = pd.get_dummies(df['product'])\n",
        "products = dummies.columns\n",
        "y = dummies.values"
      ],
      "execution_count": 0,
      "outputs": []
    },
    {
      "cell_type": "code",
      "metadata": {
        "id": "ZGjPCGT5RWa8",
        "colab_type": "code",
        "colab": {}
      },
      "source": [
        "# Classification Neural Network \n"
      ],
      "execution_count": 0,
      "outputs": []
    }
  ]
}