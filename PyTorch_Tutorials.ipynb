{
  "nbformat": 4,
  "nbformat_minor": 0,
  "metadata": {
    "colab": {
      "name": "PyTorch Tutorials",
      "version": "0.3.2",
      "provenance": [],
      "include_colab_link": true
    },
    "kernelspec": {
      "name": "python3",
      "display_name": "Python 3"
    },
    "accelerator": "GPU"
  },
  "cells": [
    {
      "cell_type": "markdown",
      "metadata": {
        "id": "view-in-github",
        "colab_type": "text"
      },
      "source": [
        "<a href=\"https://colab.research.google.com/github/abhinavpy/Tensorflow-Keras-Tutorials/blob/master/PyTorch_Tutorials.ipynb\" target=\"_parent\"><img src=\"https://colab.research.google.com/assets/colab-badge.svg\" alt=\"Open In Colab\"/></a>"
      ]
    },
    {
      "cell_type": "code",
      "metadata": {
        "id": "WeocDZ_xO5qZ",
        "colab_type": "code",
        "colab": {}
      },
      "source": [
        "from __future__ import print_function\n",
        "import torch"
      ],
      "execution_count": 0,
      "outputs": []
    },
    {
      "cell_type": "code",
      "metadata": {
        "id": "lhhYfCJaPO8X",
        "colab_type": "code",
        "outputId": "e2a2d087-2e96-4c9b-8bbd-1eaa5fde4edf",
        "colab": {
          "base_uri": "https://localhost:8080/",
          "height": 107
        }
      },
      "source": [
        "x = torch.empty(5,3)\n",
        "print(x)"
      ],
      "execution_count": 0,
      "outputs": [
        {
          "output_type": "stream",
          "text": [
            "tensor([[5.3559e-37, 0.0000e+00, 3.3631e-44],\n",
            "        [0.0000e+00,        nan, 1.5975e-43],\n",
            "        [1.1578e+27, 1.1362e+30, 7.1547e+22],\n",
            "        [4.5828e+30, 1.2121e+04, 7.1846e+22],\n",
            "        [9.2198e-39, 2.8892e+29, 2.6222e+20]])\n"
          ],
          "name": "stdout"
        }
      ]
    },
    {
      "cell_type": "code",
      "metadata": {
        "id": "OF-TWQCkPVKo",
        "colab_type": "code",
        "outputId": "3c8c5294-01ac-4781-e169-a8ff35059991",
        "colab": {
          "base_uri": "https://localhost:8080/",
          "height": 107
        }
      },
      "source": [
        "x = torch.rand(5,3)\n",
        "print(x)"
      ],
      "execution_count": 0,
      "outputs": [
        {
          "output_type": "stream",
          "text": [
            "tensor([[0.5464, 0.7821, 0.9462],\n",
            "        [0.8174, 0.5849, 0.5788],\n",
            "        [0.9098, 0.8408, 0.5507],\n",
            "        [0.0922, 0.4684, 0.6513],\n",
            "        [0.0994, 0.7620, 0.0165]])\n"
          ],
          "name": "stdout"
        }
      ]
    },
    {
      "cell_type": "code",
      "metadata": {
        "id": "R3OngSllPcsA",
        "colab_type": "code",
        "outputId": "6d46ddfa-1243-43c2-d1ea-2d4b82f541b7",
        "colab": {
          "base_uri": "https://localhost:8080/",
          "height": 107
        }
      },
      "source": [
        "x = torch.zeros(5,3,dtype=torch.long)\n",
        "print(x)"
      ],
      "execution_count": 0,
      "outputs": [
        {
          "output_type": "stream",
          "text": [
            "tensor([[0, 0, 0],\n",
            "        [0, 0, 0],\n",
            "        [0, 0, 0],\n",
            "        [0, 0, 0],\n",
            "        [0, 0, 0]])\n"
          ],
          "name": "stdout"
        }
      ]
    },
    {
      "cell_type": "code",
      "metadata": {
        "id": "TXJz4F_wPljO",
        "colab_type": "code",
        "outputId": "c2b294dc-4746-468d-8763-ab07180d753b",
        "colab": {
          "base_uri": "https://localhost:8080/",
          "height": 35
        }
      },
      "source": [
        "x = torch.tensor([5.5, 3])\n",
        "print(x)"
      ],
      "execution_count": 0,
      "outputs": [
        {
          "output_type": "stream",
          "text": [
            "tensor([5.5000, 3.0000])\n"
          ],
          "name": "stdout"
        }
      ]
    },
    {
      "cell_type": "code",
      "metadata": {
        "id": "QG69ljNOPs2f",
        "colab_type": "code",
        "outputId": "4d2dca47-8a4d-412c-e001-229d0b7d4874",
        "colab": {
          "base_uri": "https://localhost:8080/",
          "height": 107
        }
      },
      "source": [
        "x = x.new_ones(5, 3, dtype=torch.double)\n",
        "print(x)"
      ],
      "execution_count": 0,
      "outputs": [
        {
          "output_type": "stream",
          "text": [
            "tensor([[1., 1., 1.],\n",
            "        [1., 1., 1.],\n",
            "        [1., 1., 1.],\n",
            "        [1., 1., 1.],\n",
            "        [1., 1., 1.]], dtype=torch.float64)\n"
          ],
          "name": "stdout"
        }
      ]
    },
    {
      "cell_type": "code",
      "metadata": {
        "id": "hZeB232zQT-R",
        "colab_type": "code",
        "outputId": "72b34e22-fbaa-4bce-b5bd-a5a4f0e2a908",
        "colab": {
          "base_uri": "https://localhost:8080/",
          "height": 107
        }
      },
      "source": [
        "x = torch.randn_like(x, dtype=torch.float)\n",
        "print(x)"
      ],
      "execution_count": 0,
      "outputs": [
        {
          "output_type": "stream",
          "text": [
            "tensor([[-0.1548,  0.1950, -1.1871],\n",
            "        [-0.8904,  0.4977,  0.5376],\n",
            "        [ 1.4379, -1.2628, -0.5804],\n",
            "        [-0.2108, -1.1878, -1.2929],\n",
            "        [-1.1148,  0.2118,  0.4089]])\n"
          ],
          "name": "stdout"
        }
      ]
    },
    {
      "cell_type": "code",
      "metadata": {
        "id": "OPE8llISQdx_",
        "colab_type": "code",
        "outputId": "0038f1b7-e135-46bf-b587-908b94d74829",
        "colab": {
          "base_uri": "https://localhost:8080/",
          "height": 35
        }
      },
      "source": [
        "print(x.size())"
      ],
      "execution_count": 0,
      "outputs": [
        {
          "output_type": "stream",
          "text": [
            "torch.Size([5, 3])\n"
          ],
          "name": "stdout"
        }
      ]
    },
    {
      "cell_type": "code",
      "metadata": {
        "id": "Sqh6mxeNQvPS",
        "colab_type": "code",
        "outputId": "4e15e06b-d722-4091-81e5-782a417e77e8",
        "colab": {
          "base_uri": "https://localhost:8080/",
          "height": 107
        }
      },
      "source": [
        "y = torch.rand(5,3)\n",
        "print(x + y)"
      ],
      "execution_count": 0,
      "outputs": [
        {
          "output_type": "stream",
          "text": [
            "tensor([[ 0.5368,  0.9329, -0.8066],\n",
            "        [-0.1985,  1.0988,  0.7683],\n",
            "        [ 1.9817, -0.5355,  0.2124],\n",
            "        [-0.1832, -0.6979, -0.5896],\n",
            "        [-0.5534,  1.1983,  0.6714]])\n"
          ],
          "name": "stdout"
        }
      ]
    },
    {
      "cell_type": "code",
      "metadata": {
        "id": "m4O0fK1lQ7l5",
        "colab_type": "code",
        "outputId": "30b1ba02-58af-47e1-f004-45709122fca1",
        "colab": {
          "base_uri": "https://localhost:8080/",
          "height": 107
        }
      },
      "source": [
        "print(torch.add(x,y))"
      ],
      "execution_count": 0,
      "outputs": [
        {
          "output_type": "stream",
          "text": [
            "tensor([[ 0.5368,  0.9329, -0.8066],\n",
            "        [-0.1985,  1.0988,  0.7683],\n",
            "        [ 1.9817, -0.5355,  0.2124],\n",
            "        [-0.1832, -0.6979, -0.5896],\n",
            "        [-0.5534,  1.1983,  0.6714]])\n"
          ],
          "name": "stdout"
        }
      ]
    },
    {
      "cell_type": "code",
      "metadata": {
        "id": "YottrjpqQ_jS",
        "colab_type": "code",
        "outputId": "0c068b2b-a057-4500-e074-90003bf308aa",
        "colab": {
          "base_uri": "https://localhost:8080/",
          "height": 107
        }
      },
      "source": [
        "y.add_(x)"
      ],
      "execution_count": 0,
      "outputs": [
        {
          "output_type": "execute_result",
          "data": {
            "text/plain": [
              "tensor([[ 0.5368,  0.9329, -0.8066],\n",
              "        [-0.1985,  1.0988,  0.7683],\n",
              "        [ 1.9817, -0.5355,  0.2124],\n",
              "        [-0.1832, -0.6979, -0.5896],\n",
              "        [-0.5534,  1.1983,  0.6714]])"
            ]
          },
          "metadata": {
            "tags": []
          },
          "execution_count": 12
        }
      ]
    },
    {
      "cell_type": "code",
      "metadata": {
        "id": "ddBxPu8mRXZP",
        "colab_type": "code",
        "outputId": "1e94aae7-fec9-4c82-da46-f7c367f50c11",
        "colab": {
          "base_uri": "https://localhost:8080/",
          "height": 35
        }
      },
      "source": [
        "print(x[:, 1])"
      ],
      "execution_count": 0,
      "outputs": [
        {
          "output_type": "stream",
          "text": [
            "tensor([ 0.1950,  0.4977, -1.2628, -1.1878,  0.2118])\n"
          ],
          "name": "stdout"
        }
      ]
    },
    {
      "cell_type": "code",
      "metadata": {
        "id": "mBcpaJ1QRd2c",
        "colab_type": "code",
        "outputId": "3e47acba-b74e-401c-e7dc-9a87648e88df",
        "colab": {
          "base_uri": "https://localhost:8080/",
          "height": 179
        }
      },
      "source": [
        "x = torch.randn(4,4)\n",
        "print(x)\n",
        "y = x.view(16)\n",
        "print(y)\n",
        "z = x.view(-1,8)\n",
        "print(z)\n",
        "print(x.size(), y.size(), z.size())"
      ],
      "execution_count": 0,
      "outputs": [
        {
          "output_type": "stream",
          "text": [
            "tensor([[-2.1417, -2.2757,  0.1198,  0.4732],\n",
            "        [-0.2460,  0.7163, -1.3119,  0.3899],\n",
            "        [ 0.2144, -0.4295, -0.5241, -1.4687],\n",
            "        [ 0.4778, -0.5544, -2.8772,  1.4111]])\n",
            "tensor([-2.1417, -2.2757,  0.1198,  0.4732, -0.2460,  0.7163, -1.3119,  0.3899,\n",
            "         0.2144, -0.4295, -0.5241, -1.4687,  0.4778, -0.5544, -2.8772,  1.4111])\n",
            "tensor([[-2.1417, -2.2757,  0.1198,  0.4732, -0.2460,  0.7163, -1.3119,  0.3899],\n",
            "        [ 0.2144, -0.4295, -0.5241, -1.4687,  0.4778, -0.5544, -2.8772,  1.4111]])\n",
            "torch.Size([4, 4]) torch.Size([16]) torch.Size([2, 8])\n"
          ],
          "name": "stdout"
        }
      ]
    },
    {
      "cell_type": "code",
      "metadata": {
        "id": "oDhvwJY4R_3B",
        "colab_type": "code",
        "outputId": "ff6367ba-2270-4089-dadd-11095801b1f5",
        "colab": {
          "base_uri": "https://localhost:8080/",
          "height": 53
        }
      },
      "source": [
        "x = torch.randn(1)\n",
        "print(x)\n",
        "print(x.item())"
      ],
      "execution_count": 0,
      "outputs": [
        {
          "output_type": "stream",
          "text": [
            "tensor([2.0996])\n",
            "2.0996251106262207\n"
          ],
          "name": "stdout"
        }
      ]
    },
    {
      "cell_type": "code",
      "metadata": {
        "id": "iulz6HQYSql5",
        "colab_type": "code",
        "outputId": "757f6c90-ace4-4e68-f71a-ac6d7b51e88a",
        "colab": {
          "base_uri": "https://localhost:8080/",
          "height": 53
        }
      },
      "source": [
        "x = torch.randn(1)\n",
        "print(x)\n",
        "print(x.item())"
      ],
      "execution_count": 0,
      "outputs": [
        {
          "output_type": "stream",
          "text": [
            "tensor([0.5914])\n",
            "0.5913953185081482\n"
          ],
          "name": "stdout"
        }
      ]
    },
    {
      "cell_type": "code",
      "metadata": {
        "id": "IrOL4ArKUUcf",
        "colab_type": "code",
        "outputId": "ee50ddb6-c71a-41da-9d4f-69e7b2b6aa1c",
        "colab": {
          "base_uri": "https://localhost:8080/",
          "height": 35
        }
      },
      "source": [
        "a = torch.ones(5)\n",
        "print(a)"
      ],
      "execution_count": 0,
      "outputs": [
        {
          "output_type": "stream",
          "text": [
            "tensor([1., 1., 1., 1., 1.])\n"
          ],
          "name": "stdout"
        }
      ]
    },
    {
      "cell_type": "code",
      "metadata": {
        "id": "A_pHS7fuUouw",
        "colab_type": "code",
        "outputId": "2ebdc0d9-d62d-46bb-8e8e-776cb8b3b9b0",
        "colab": {
          "base_uri": "https://localhost:8080/",
          "height": 35
        }
      },
      "source": [
        "b = a.numpy()\n",
        "print(b)"
      ],
      "execution_count": 0,
      "outputs": [
        {
          "output_type": "stream",
          "text": [
            "[1. 1. 1. 1. 1.]\n"
          ],
          "name": "stdout"
        }
      ]
    },
    {
      "cell_type": "code",
      "metadata": {
        "id": "oRnoGL4ZUtcP",
        "colab_type": "code",
        "outputId": "6f8e97fa-fcd4-4cce-c5f7-1ac280af80f7",
        "colab": {
          "base_uri": "https://localhost:8080/",
          "height": 53
        }
      },
      "source": [
        "a.add_(1)\n",
        "print(a)\n",
        "print(b)"
      ],
      "execution_count": 0,
      "outputs": [
        {
          "output_type": "stream",
          "text": [
            "tensor([2., 2., 2., 2., 2.])\n",
            "[2. 2. 2. 2. 2.]\n"
          ],
          "name": "stdout"
        }
      ]
    },
    {
      "cell_type": "code",
      "metadata": {
        "id": "9V-afxzlU0OL",
        "colab_type": "code",
        "outputId": "0eb5e4e4-5604-4e2f-fd3e-72a9c0965530",
        "colab": {
          "base_uri": "https://localhost:8080/",
          "height": 53
        }
      },
      "source": [
        "import numpy as np\n",
        "a = np.ones(5)\n",
        "b = torch.from_numpy(a)\n",
        "np.add(a, 1, out=a)\n",
        "print(a)\n",
        "print(b)"
      ],
      "execution_count": 0,
      "outputs": [
        {
          "output_type": "stream",
          "text": [
            "[2. 2. 2. 2. 2.]\n",
            "tensor([2., 2., 2., 2., 2.], dtype=torch.float64)\n"
          ],
          "name": "stdout"
        }
      ]
    },
    {
      "cell_type": "code",
      "metadata": {
        "id": "Y-Dt8yxmVFS2",
        "colab_type": "code",
        "outputId": "d2b4916a-3635-4f63-cee2-8e34dd78b067",
        "colab": {
          "base_uri": "https://localhost:8080/",
          "height": 53
        }
      },
      "source": [
        "if torch.cuda.is_available():\n",
        "    device = torch.device(\"cuda\")          # A CUDA Device object\n",
        "    y = torch.ones_like(x, device=device)  # directly create a tensor on GPU\n",
        "    x = x.to(device)                       # or just use strings .to(\"cuda\")\n",
        "    z = x + y                              \n",
        "    print(z)\n",
        "    print(z.to(\"cpu\", torch.double))       # .to() can also use dtype altogether"
      ],
      "execution_count": 0,
      "outputs": [
        {
          "output_type": "stream",
          "text": [
            "tensor([1.5914], device='cuda:0')\n",
            "tensor([1.5914], dtype=torch.float64)\n"
          ],
          "name": "stdout"
        }
      ]
    },
    {
      "cell_type": "code",
      "metadata": {
        "id": "nS7e4pJfWSV7",
        "colab_type": "code",
        "colab": {}
      },
      "source": [
        ""
      ],
      "execution_count": 0,
      "outputs": []
    }
  ]
}