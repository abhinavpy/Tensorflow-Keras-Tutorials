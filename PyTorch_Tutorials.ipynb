{
  "nbformat": 4,
  "nbformat_minor": 0,
  "metadata": {
    "colab": {
      "name": "PyTorch Tutorials",
      "version": "0.3.2",
      "provenance": [],
      "include_colab_link": true
    },
    "kernelspec": {
      "name": "python3",
      "display_name": "Python 3"
    },
    "accelerator": "GPU"
  },
  "cells": [
    {
      "cell_type": "markdown",
      "metadata": {
        "id": "view-in-github",
        "colab_type": "text"
      },
      "source": [
        "<a href=\"https://colab.research.google.com/github/abhinavpy/Tensorflow-Keras-Tutorials/blob/master/PyTorch_Tutorials.ipynb\" target=\"_parent\"><img src=\"https://colab.research.google.com/assets/colab-badge.svg\" alt=\"Open In Colab\"/></a>"
      ]
    },
    {
      "cell_type": "code",
      "metadata": {
        "id": "WeocDZ_xO5qZ",
        "colab_type": "code",
        "colab": {}
      },
      "source": [
        "from __future__ import print_function\n",
        "import torch"
      ],
      "execution_count": 0,
      "outputs": []
    },
    {
      "cell_type": "code",
      "metadata": {
        "id": "lhhYfCJaPO8X",
        "colab_type": "code",
        "outputId": "e2a2d087-2e96-4c9b-8bbd-1eaa5fde4edf",
        "colab": {
          "base_uri": "https://localhost:8080/",
          "height": 107
        }
      },
      "source": [
        "x = torch.empty(5,3)\n",
        "print(x)"
      ],
      "execution_count": 0,
      "outputs": [
        {
          "output_type": "stream",
          "text": [
            "tensor([[5.3559e-37, 0.0000e+00, 3.3631e-44],\n",
            "        [0.0000e+00,        nan, 1.5975e-43],\n",
            "        [1.1578e+27, 1.1362e+30, 7.1547e+22],\n",
            "        [4.5828e+30, 1.2121e+04, 7.1846e+22],\n",
            "        [9.2198e-39, 2.8892e+29, 2.6222e+20]])\n"
          ],
          "name": "stdout"
        }
      ]
    },
    {
      "cell_type": "code",
      "metadata": {
        "id": "OF-TWQCkPVKo",
        "colab_type": "code",
        "outputId": "3c8c5294-01ac-4781-e169-a8ff35059991",
        "colab": {
          "base_uri": "https://localhost:8080/",
          "height": 107
        }
      },
      "source": [
        "x = torch.rand(5,3)\n",
        "print(x)"
      ],
      "execution_count": 0,
      "outputs": [
        {
          "output_type": "stream",
          "text": [
            "tensor([[0.5464, 0.7821, 0.9462],\n",
            "        [0.8174, 0.5849, 0.5788],\n",
            "        [0.9098, 0.8408, 0.5507],\n",
            "        [0.0922, 0.4684, 0.6513],\n",
            "        [0.0994, 0.7620, 0.0165]])\n"
          ],
          "name": "stdout"
        }
      ]
    },
    {
      "cell_type": "code",
      "metadata": {
        "id": "R3OngSllPcsA",
        "colab_type": "code",
        "outputId": "6d46ddfa-1243-43c2-d1ea-2d4b82f541b7",
        "colab": {
          "base_uri": "https://localhost:8080/",
          "height": 107
        }
      },
      "source": [
        "x = torch.zeros(5,3,dtype=torch.long)\n",
        "print(x)"
      ],
      "execution_count": 0,
      "outputs": [
        {
          "output_type": "stream",
          "text": [
            "tensor([[0, 0, 0],\n",
            "        [0, 0, 0],\n",
            "        [0, 0, 0],\n",
            "        [0, 0, 0],\n",
            "        [0, 0, 0]])\n"
          ],
          "name": "stdout"
        }
      ]
    },
    {
      "cell_type": "code",
      "metadata": {
        "id": "TXJz4F_wPljO",
        "colab_type": "code",
        "outputId": "c2b294dc-4746-468d-8763-ab07180d753b",
        "colab": {
          "base_uri": "https://localhost:8080/",
          "height": 35
        }
      },
      "source": [
        "x = torch.tensor([5.5, 3])\n",
        "print(x)"
      ],
      "execution_count": 0,
      "outputs": [
        {
          "output_type": "stream",
          "text": [
            "tensor([5.5000, 3.0000])\n"
          ],
          "name": "stdout"
        }
      ]
    },
    {
      "cell_type": "code",
      "metadata": {
        "id": "QG69ljNOPs2f",
        "colab_type": "code",
        "outputId": "4d2dca47-8a4d-412c-e001-229d0b7d4874",
        "colab": {
          "base_uri": "https://localhost:8080/",
          "height": 107
        }
      },
      "source": [
        "x = x.new_ones(5, 3, dtype=torch.double)\n",
        "print(x)"
      ],
      "execution_count": 0,
      "outputs": [
        {
          "output_type": "stream",
          "text": [
            "tensor([[1., 1., 1.],\n",
            "        [1., 1., 1.],\n",
            "        [1., 1., 1.],\n",
            "        [1., 1., 1.],\n",
            "        [1., 1., 1.]], dtype=torch.float64)\n"
          ],
          "name": "stdout"
        }
      ]
    },
    {
      "cell_type": "code",
      "metadata": {
        "id": "hZeB232zQT-R",
        "colab_type": "code",
        "outputId": "72b34e22-fbaa-4bce-b5bd-a5a4f0e2a908",
        "colab": {
          "base_uri": "https://localhost:8080/",
          "height": 107
        }
      },
      "source": [
        "x = torch.randn_like(x, dtype=torch.float)\n",
        "print(x)"
      ],
      "execution_count": 0,
      "outputs": [
        {
          "output_type": "stream",
          "text": [
            "tensor([[-0.1548,  0.1950, -1.1871],\n",
            "        [-0.8904,  0.4977,  0.5376],\n",
            "        [ 1.4379, -1.2628, -0.5804],\n",
            "        [-0.2108, -1.1878, -1.2929],\n",
            "        [-1.1148,  0.2118,  0.4089]])\n"
          ],
          "name": "stdout"
        }
      ]
    },
    {
      "cell_type": "code",
      "metadata": {
        "id": "OPE8llISQdx_",
        "colab_type": "code",
        "outputId": "0038f1b7-e135-46bf-b587-908b94d74829",
        "colab": {
          "base_uri": "https://localhost:8080/",
          "height": 35
        }
      },
      "source": [
        "print(x.size())"
      ],
      "execution_count": 0,
      "outputs": [
        {
          "output_type": "stream",
          "text": [
            "torch.Size([5, 3])\n"
          ],
          "name": "stdout"
        }
      ]
    },
    {
      "cell_type": "code",
      "metadata": {
        "id": "Sqh6mxeNQvPS",
        "colab_type": "code",
        "outputId": "4e15e06b-d722-4091-81e5-782a417e77e8",
        "colab": {
          "base_uri": "https://localhost:8080/",
          "height": 107
        }
      },
      "source": [
        "y = torch.rand(5,3)\n",
        "print(x + y)"
      ],
      "execution_count": 0,
      "outputs": [
        {
          "output_type": "stream",
          "text": [
            "tensor([[ 0.5368,  0.9329, -0.8066],\n",
            "        [-0.1985,  1.0988,  0.7683],\n",
            "        [ 1.9817, -0.5355,  0.2124],\n",
            "        [-0.1832, -0.6979, -0.5896],\n",
            "        [-0.5534,  1.1983,  0.6714]])\n"
          ],
          "name": "stdout"
        }
      ]
    },
    {
      "cell_type": "code",
      "metadata": {
        "id": "m4O0fK1lQ7l5",
        "colab_type": "code",
        "outputId": "30b1ba02-58af-47e1-f004-45709122fca1",
        "colab": {
          "base_uri": "https://localhost:8080/",
          "height": 107
        }
      },
      "source": [
        "print(torch.add(x,y))"
      ],
      "execution_count": 0,
      "outputs": [
        {
          "output_type": "stream",
          "text": [
            "tensor([[ 0.5368,  0.9329, -0.8066],\n",
            "        [-0.1985,  1.0988,  0.7683],\n",
            "        [ 1.9817, -0.5355,  0.2124],\n",
            "        [-0.1832, -0.6979, -0.5896],\n",
            "        [-0.5534,  1.1983,  0.6714]])\n"
          ],
          "name": "stdout"
        }
      ]
    },
    {
      "cell_type": "code",
      "metadata": {
        "id": "YottrjpqQ_jS",
        "colab_type": "code",
        "outputId": "0c068b2b-a057-4500-e074-90003bf308aa",
        "colab": {
          "base_uri": "https://localhost:8080/",
          "height": 107
        }
      },
      "source": [
        "y.add_(x)"
      ],
      "execution_count": 0,
      "outputs": [
        {
          "output_type": "execute_result",
          "data": {
            "text/plain": [
              "tensor([[ 0.5368,  0.9329, -0.8066],\n",
              "        [-0.1985,  1.0988,  0.7683],\n",
              "        [ 1.9817, -0.5355,  0.2124],\n",
              "        [-0.1832, -0.6979, -0.5896],\n",
              "        [-0.5534,  1.1983,  0.6714]])"
            ]
          },
          "metadata": {
            "tags": []
          },
          "execution_count": 12
        }
      ]
    },
    {
      "cell_type": "code",
      "metadata": {
        "id": "ddBxPu8mRXZP",
        "colab_type": "code",
        "outputId": "1e94aae7-fec9-4c82-da46-f7c367f50c11",
        "colab": {
          "base_uri": "https://localhost:8080/",
          "height": 35
        }
      },
      "source": [
        "print(x[:, 1])"
      ],
      "execution_count": 0,
      "outputs": [
        {
          "output_type": "stream",
          "text": [
            "tensor([ 0.1950,  0.4977, -1.2628, -1.1878,  0.2118])\n"
          ],
          "name": "stdout"
        }
      ]
    },
    {
      "cell_type": "code",
      "metadata": {
        "id": "mBcpaJ1QRd2c",
        "colab_type": "code",
        "outputId": "3e47acba-b74e-401c-e7dc-9a87648e88df",
        "colab": {
          "base_uri": "https://localhost:8080/",
          "height": 179
        }
      },
      "source": [
        "x = torch.randn(4,4)\n",
        "print(x)\n",
        "y = x.view(16)\n",
        "print(y)\n",
        "z = x.view(-1,8)\n",
        "print(z)\n",
        "print(x.size(), y.size(), z.size())"
      ],
      "execution_count": 0,
      "outputs": [
        {
          "output_type": "stream",
          "text": [
            "tensor([[-2.1417, -2.2757,  0.1198,  0.4732],\n",
            "        [-0.2460,  0.7163, -1.3119,  0.3899],\n",
            "        [ 0.2144, -0.4295, -0.5241, -1.4687],\n",
            "        [ 0.4778, -0.5544, -2.8772,  1.4111]])\n",
            "tensor([-2.1417, -2.2757,  0.1198,  0.4732, -0.2460,  0.7163, -1.3119,  0.3899,\n",
            "         0.2144, -0.4295, -0.5241, -1.4687,  0.4778, -0.5544, -2.8772,  1.4111])\n",
            "tensor([[-2.1417, -2.2757,  0.1198,  0.4732, -0.2460,  0.7163, -1.3119,  0.3899],\n",
            "        [ 0.2144, -0.4295, -0.5241, -1.4687,  0.4778, -0.5544, -2.8772,  1.4111]])\n",
            "torch.Size([4, 4]) torch.Size([16]) torch.Size([2, 8])\n"
          ],
          "name": "stdout"
        }
      ]
    },
    {
      "cell_type": "code",
      "metadata": {
        "id": "oDhvwJY4R_3B",
        "colab_type": "code",
        "outputId": "ff6367ba-2270-4089-dadd-11095801b1f5",
        "colab": {
          "base_uri": "https://localhost:8080/",
          "height": 53
        }
      },
      "source": [
        "x = torch.randn(1)\n",
        "print(x)\n",
        "print(x.item())"
      ],
      "execution_count": 0,
      "outputs": [
        {
          "output_type": "stream",
          "text": [
            "tensor([2.0996])\n",
            "2.0996251106262207\n"
          ],
          "name": "stdout"
        }
      ]
    },
    {
      "cell_type": "code",
      "metadata": {
        "id": "iulz6HQYSql5",
        "colab_type": "code",
        "outputId": "757f6c90-ace4-4e68-f71a-ac6d7b51e88a",
        "colab": {
          "base_uri": "https://localhost:8080/",
          "height": 53
        }
      },
      "source": [
        "x = torch.randn(1)\n",
        "print(x)\n",
        "print(x.item())"
      ],
      "execution_count": 0,
      "outputs": [
        {
          "output_type": "stream",
          "text": [
            "tensor([0.5914])\n",
            "0.5913953185081482\n"
          ],
          "name": "stdout"
        }
      ]
    },
    {
      "cell_type": "code",
      "metadata": {
        "id": "IrOL4ArKUUcf",
        "colab_type": "code",
        "outputId": "ee50ddb6-c71a-41da-9d4f-69e7b2b6aa1c",
        "colab": {
          "base_uri": "https://localhost:8080/",
          "height": 35
        }
      },
      "source": [
        "a = torch.ones(5)\n",
        "print(a)"
      ],
      "execution_count": 0,
      "outputs": [
        {
          "output_type": "stream",
          "text": [
            "tensor([1., 1., 1., 1., 1.])\n"
          ],
          "name": "stdout"
        }
      ]
    },
    {
      "cell_type": "code",
      "metadata": {
        "id": "A_pHS7fuUouw",
        "colab_type": "code",
        "outputId": "2ebdc0d9-d62d-46bb-8e8e-776cb8b3b9b0",
        "colab": {
          "base_uri": "https://localhost:8080/",
          "height": 35
        }
      },
      "source": [
        "b = a.numpy()\n",
        "print(b)"
      ],
      "execution_count": 0,
      "outputs": [
        {
          "output_type": "stream",
          "text": [
            "[1. 1. 1. 1. 1.]\n"
          ],
          "name": "stdout"
        }
      ]
    },
    {
      "cell_type": "code",
      "metadata": {
        "id": "oRnoGL4ZUtcP",
        "colab_type": "code",
        "outputId": "6f8e97fa-fcd4-4cce-c5f7-1ac280af80f7",
        "colab": {
          "base_uri": "https://localhost:8080/",
          "height": 53
        }
      },
      "source": [
        "a.add_(1)\n",
        "print(a)\n",
        "print(b)"
      ],
      "execution_count": 0,
      "outputs": [
        {
          "output_type": "stream",
          "text": [
            "tensor([2., 2., 2., 2., 2.])\n",
            "[2. 2. 2. 2. 2.]\n"
          ],
          "name": "stdout"
        }
      ]
    },
    {
      "cell_type": "code",
      "metadata": {
        "id": "9V-afxzlU0OL",
        "colab_type": "code",
        "outputId": "0eb5e4e4-5604-4e2f-fd3e-72a9c0965530",
        "colab": {
          "base_uri": "https://localhost:8080/",
          "height": 53
        }
      },
      "source": [
        "import numpy as np\n",
        "a = np.ones(5)\n",
        "b = torch.from_numpy(a)\n",
        "np.add(a, 1, out=a)\n",
        "print(a)\n",
        "print(b)"
      ],
      "execution_count": 0,
      "outputs": [
        {
          "output_type": "stream",
          "text": [
            "[2. 2. 2. 2. 2.]\n",
            "tensor([2., 2., 2., 2., 2.], dtype=torch.float64)\n"
          ],
          "name": "stdout"
        }
      ]
    },
    {
      "cell_type": "code",
      "metadata": {
        "id": "Y-Dt8yxmVFS2",
        "colab_type": "code",
        "outputId": "d2b4916a-3635-4f63-cee2-8e34dd78b067",
        "colab": {
          "base_uri": "https://localhost:8080/",
          "height": 53
        }
      },
      "source": [
        "if torch.cuda.is_available():\n",
        "    device = torch.device(\"cuda\")          # A CUDA Device object\n",
        "    y = torch.ones_like(x, device=device)  # directly create a tensor on GPU\n",
        "    x = x.to(device)                       # or just use strings .to(\"cuda\")\n",
        "    z = x + y                              \n",
        "    print(z)\n",
        "    print(z.to(\"cpu\", torch.double))       # .to() can also use dtype altogether"
      ],
      "execution_count": 0,
      "outputs": [
        {
          "output_type": "stream",
          "text": [
            "tensor([1.5914], device='cuda:0')\n",
            "tensor([1.5914], dtype=torch.float64)\n"
          ],
          "name": "stdout"
        }
      ]
    },
    {
      "cell_type": "markdown",
      "metadata": {
        "id": "gJfobl_UVp7W",
        "colab_type": "text"
      },
      "source": [
        "## Autograd Automatic Differentiation\n",
        "Central to all neural networks is the autograd package. The ```autograd``` package provides automatic differentiation for all operations on tensors. It is a define-by-run framework which means that your backpropag is defined by how you run it."
      ]
    },
    {
      "cell_type": "code",
      "metadata": {
        "id": "nS7e4pJfWSV7",
        "colab_type": "code",
        "colab": {}
      },
      "source": [
        "import torch"
      ],
      "execution_count": 0,
      "outputs": []
    },
    {
      "cell_type": "code",
      "metadata": {
        "id": "cwn3kjShYa8R",
        "colab_type": "code",
        "colab": {
          "base_uri": "https://localhost:8080/",
          "height": 53
        },
        "outputId": "263a6554-2aff-4092-859c-7ea2d7fc11c2"
      },
      "source": [
        "x = torch.ones(2,2,requires_grad=True)\n",
        "print(x)"
      ],
      "execution_count": 2,
      "outputs": [
        {
          "output_type": "stream",
          "text": [
            "tensor([[1., 1.],\n",
            "        [1., 1.]], requires_grad=True)\n"
          ],
          "name": "stdout"
        }
      ]
    },
    {
      "cell_type": "code",
      "metadata": {
        "id": "ttgp0lXWYi5n",
        "colab_type": "code",
        "colab": {
          "base_uri": "https://localhost:8080/",
          "height": 53
        },
        "outputId": "1c3c8d07-bb5d-4a1d-d094-8415ee2a50d4"
      },
      "source": [
        "y = x + 2\n",
        "print(y)"
      ],
      "execution_count": 3,
      "outputs": [
        {
          "output_type": "stream",
          "text": [
            "tensor([[3., 3.],\n",
            "        [3., 3.]], grad_fn=<AddBackward0>)\n"
          ],
          "name": "stdout"
        }
      ]
    },
    {
      "cell_type": "code",
      "metadata": {
        "id": "5g1owbiDZZsT",
        "colab_type": "code",
        "colab": {
          "base_uri": "https://localhost:8080/",
          "height": 35
        },
        "outputId": "dbc9fca9-6089-4ff9-8270-0c66a24619c9"
      },
      "source": [
        "print(y.grad_fn)"
      ],
      "execution_count": 4,
      "outputs": [
        {
          "output_type": "stream",
          "text": [
            "<AddBackward0 object at 0x7f87ce105a58>\n"
          ],
          "name": "stdout"
        }
      ]
    },
    {
      "cell_type": "code",
      "metadata": {
        "id": "iCisKRSVZeEg",
        "colab_type": "code",
        "colab": {
          "base_uri": "https://localhost:8080/",
          "height": 53
        },
        "outputId": "1a30f359-3241-435e-b576-5effc74f129c"
      },
      "source": [
        "z = y * y * 3\n",
        "out = z.mean()\n",
        "\n",
        "print(z, out)"
      ],
      "execution_count": 5,
      "outputs": [
        {
          "output_type": "stream",
          "text": [
            "tensor([[27., 27.],\n",
            "        [27., 27.]], grad_fn=<MulBackward0>) tensor(27., grad_fn=<MeanBackward0>)\n"
          ],
          "name": "stdout"
        }
      ]
    },
    {
      "cell_type": "code",
      "metadata": {
        "id": "CTO165zgahCw",
        "colab_type": "code",
        "colab": {
          "base_uri": "https://localhost:8080/",
          "height": 71
        },
        "outputId": "83f1f1d1-0820-4218-948a-d40dc3860f5e"
      },
      "source": [
        "a = torch.randn(2,2)\n",
        "a = ((a * 3) / (a - 1))\n",
        "print(a.requires_grad)\n",
        "a.requires_grad_(True)\n",
        "print(a.requires_grad)\n",
        "b = (a * a).sum()\n",
        "print(b.grad_fn)"
      ],
      "execution_count": 7,
      "outputs": [
        {
          "output_type": "stream",
          "text": [
            "False\n",
            "True\n",
            "<SumBackward0 object at 0x7f8781e40940>\n"
          ],
          "name": "stdout"
        }
      ]
    },
    {
      "cell_type": "code",
      "metadata": {
        "id": "9XQimKOMbELn",
        "colab_type": "code",
        "colab": {
          "base_uri": "https://localhost:8080/",
          "height": 35
        },
        "outputId": "f5ef4296-4a46-4aa7-8b1b-b0b6d4fd77b1"
      },
      "source": [
        "import torch\n",
        "\n",
        "num_entries = 5000\n",
        "\n",
        "db = torch.rand(num_entries) > 0.5\n",
        "db"
      ],
      "execution_count": 8,
      "outputs": [
        {
          "output_type": "execute_result",
          "data": {
            "text/plain": [
              "tensor([0, 0, 1,  ..., 1, 1, 0], dtype=torch.uint8)"
            ]
          },
          "metadata": {
            "tags": []
          },
          "execution_count": 8
        }
      ]
    },
    {
      "cell_type": "code",
      "metadata": {
        "id": "wsuee8AGmE5w",
        "colab_type": "code",
        "colab": {
          "base_uri": "https://localhost:8080/",
          "height": 35
        },
        "outputId": "551f5c2e-57c6-4587-8b63-c5e591df7111"
      },
      "source": [
        "db"
      ],
      "execution_count": 9,
      "outputs": [
        {
          "output_type": "execute_result",
          "data": {
            "text/plain": [
              "tensor([0, 0, 1,  ..., 1, 1, 0], dtype=torch.uint8)"
            ]
          },
          "metadata": {
            "tags": []
          },
          "execution_count": 9
        }
      ]
    },
    {
      "cell_type": "code",
      "metadata": {
        "id": "YmgePDKQmSEH",
        "colab_type": "code",
        "colab": {
          "base_uri": "https://localhost:8080/",
          "height": 35
        },
        "outputId": "1e7c32dc-401c-4464-b216-1ded57cd2b32"
      },
      "source": [
        "db.shape"
      ],
      "execution_count": 10,
      "outputs": [
        {
          "output_type": "execute_result",
          "data": {
            "text/plain": [
              "torch.Size([5000])"
            ]
          },
          "metadata": {
            "tags": []
          },
          "execution_count": 10
        }
      ]
    },
    {
      "cell_type": "code",
      "metadata": {
        "id": "hMk6lrt8mVU7",
        "colab_type": "code",
        "colab": {
          "base_uri": "https://localhost:8080/",
          "height": 35
        },
        "outputId": "f7f943fa-fb19-488e-9fc9-b27d246f3376"
      },
      "source": [
        "db[0:5]"
      ],
      "execution_count": 11,
      "outputs": [
        {
          "output_type": "execute_result",
          "data": {
            "text/plain": [
              "tensor([0, 0, 1, 1, 0], dtype=torch.uint8)"
            ]
          },
          "metadata": {
            "tags": []
          },
          "execution_count": 11
        }
      ]
    },
    {
      "cell_type": "code",
      "metadata": {
        "id": "Vx7JL7Gumki5",
        "colab_type": "code",
        "colab": {}
      },
      "source": [
        "remove_index = 2"
      ],
      "execution_count": 0,
      "outputs": []
    },
    {
      "cell_type": "code",
      "metadata": {
        "id": "Eqo9JRs9mzZ1",
        "colab_type": "code",
        "colab": {
          "base_uri": "https://localhost:8080/",
          "height": 35
        },
        "outputId": "d996eb91-b9ab-408d-9477-43e00e25ee4c"
      },
      "source": [
        "db[0:2]"
      ],
      "execution_count": 13,
      "outputs": [
        {
          "output_type": "execute_result",
          "data": {
            "text/plain": [
              "tensor([0, 0], dtype=torch.uint8)"
            ]
          },
          "metadata": {
            "tags": []
          },
          "execution_count": 13
        }
      ]
    },
    {
      "cell_type": "code",
      "metadata": {
        "id": "M42xbdyZm0of",
        "colab_type": "code",
        "colab": {
          "base_uri": "https://localhost:8080/",
          "height": 35
        },
        "outputId": "fd25e941-0245-435c-ef57-507dabc2db94"
      },
      "source": [
        "db[3:]"
      ],
      "execution_count": 14,
      "outputs": [
        {
          "output_type": "execute_result",
          "data": {
            "text/plain": [
              "tensor([1, 0, 1,  ..., 1, 1, 0], dtype=torch.uint8)"
            ]
          },
          "metadata": {
            "tags": []
          },
          "execution_count": 14
        }
      ]
    },
    {
      "cell_type": "code",
      "metadata": {
        "id": "2sV4iGLIm2t5",
        "colab_type": "code",
        "colab": {
          "base_uri": "https://localhost:8080/",
          "height": 35
        },
        "outputId": "8369931f-c270-4c0f-d7d2-4922e466ec64"
      },
      "source": [
        "torch.cat((db[0:2],db[3:]))[0:5]"
      ],
      "execution_count": 15,
      "outputs": [
        {
          "output_type": "execute_result",
          "data": {
            "text/plain": [
              "tensor([0, 0, 1, 0, 1], dtype=torch.uint8)"
            ]
          },
          "metadata": {
            "tags": []
          },
          "execution_count": 15
        }
      ]
    },
    {
      "cell_type": "code",
      "metadata": {
        "id": "mFpAY40bnAAH",
        "colab_type": "code",
        "colab": {}
      },
      "source": [
        "def get_parallel_db(db, remove_index):\n",
        "    return torch.cat((db[0:remove_index], db[remove_index+1:]))"
      ],
      "execution_count": 0,
      "outputs": []
    },
    {
      "cell_type": "code",
      "metadata": {
        "id": "4fLtdWUQo344",
        "colab_type": "code",
        "colab": {
          "base_uri": "https://localhost:8080/",
          "height": 35
        },
        "outputId": "f7afafa4-18f5-47c7-c4a1-5b706cc2eba1"
      },
      "source": [
        "get_parallel_db(db,3)"
      ],
      "execution_count": 17,
      "outputs": [
        {
          "output_type": "execute_result",
          "data": {
            "text/plain": [
              "tensor([0, 0, 1,  ..., 1, 1, 0], dtype=torch.uint8)"
            ]
          },
          "metadata": {
            "tags": []
          },
          "execution_count": 17
        }
      ]
    },
    {
      "cell_type": "code",
      "metadata": {
        "id": "wZJt-P7Qo7WE",
        "colab_type": "code",
        "colab": {}
      },
      "source": [
        "def get_parallel_dbs(db):\n",
        "    parallel_dbs = list()\n",
        "\n",
        "    for i in range(len(db)):\n",
        "        pdb = get_parallel_db(db, i)\n",
        "        parallel_dbs.append(pdb)\n",
        "        \n",
        "    return parallel_dbs"
      ],
      "execution_count": 0,
      "outputs": []
    },
    {
      "cell_type": "code",
      "metadata": {
        "id": "UtSfso1jpags",
        "colab_type": "code",
        "colab": {}
      },
      "source": [
        "pdbs = get_parallel_dbs(db)"
      ],
      "execution_count": 0,
      "outputs": []
    },
    {
      "cell_type": "code",
      "metadata": {
        "id": "Llr6_aA5pnfO",
        "colab_type": "code",
        "colab": {
          "base_uri": "https://localhost:8080/",
          "height": 35
        },
        "outputId": "f452e5db-8e1b-425e-b52c-4bffc2e9770e"
      },
      "source": [
        "len(pdbs)"
      ],
      "execution_count": 25,
      "outputs": [
        {
          "output_type": "execute_result",
          "data": {
            "text/plain": [
              "5000"
            ]
          },
          "metadata": {
            "tags": []
          },
          "execution_count": 25
        }
      ]
    },
    {
      "cell_type": "code",
      "metadata": {
        "id": "eTCLSfkhpzRB",
        "colab_type": "code",
        "colab": {}
      },
      "source": [
        "def create_db_and_parallels(num_entries):\n",
        "    \n",
        "    db = torch.rand(num_entries) > 0.5\n",
        "    pdbs = get_parallel_dbs(db)\n",
        "    \n",
        "    return db, pdbs"
      ],
      "execution_count": 0,
      "outputs": []
    },
    {
      "cell_type": "code",
      "metadata": {
        "id": "Jy9PaxnDrDXA",
        "colab_type": "code",
        "colab": {}
      },
      "source": [
        "db, pdbs = create_db_and_parallels(20)"
      ],
      "execution_count": 0,
      "outputs": []
    },
    {
      "cell_type": "code",
      "metadata": {
        "id": "MjnzaX_arKP9",
        "colab_type": "code",
        "colab": {
          "base_uri": "https://localhost:8080/",
          "height": 53
        },
        "outputId": "6afd9cbb-fe36-4c33-b39d-3162959b939f"
      },
      "source": [
        "db"
      ],
      "execution_count": 28,
      "outputs": [
        {
          "output_type": "execute_result",
          "data": {
            "text/plain": [
              "tensor([0, 0, 1, 0, 0, 1, 1, 0, 1, 1, 0, 1, 0, 0, 0, 1, 0, 0, 1, 0],\n",
              "       dtype=torch.uint8)"
            ]
          },
          "metadata": {
            "tags": []
          },
          "execution_count": 28
        }
      ]
    },
    {
      "cell_type": "code",
      "metadata": {
        "id": "awD5C-XpsomZ",
        "colab_type": "code",
        "colab": {
          "base_uri": "https://localhost:8080/",
          "height": 737
        },
        "outputId": "b67c002f-6c96-43b3-f55a-049cf1840b63"
      },
      "source": [
        "pdbs"
      ],
      "execution_count": 29,
      "outputs": [
        {
          "output_type": "execute_result",
          "data": {
            "text/plain": [
              "[tensor([0, 1, 0, 0, 1, 1, 0, 1, 1, 0, 1, 0, 0, 0, 1, 0, 0, 1, 0],\n",
              "        dtype=torch.uint8),\n",
              " tensor([0, 1, 0, 0, 1, 1, 0, 1, 1, 0, 1, 0, 0, 0, 1, 0, 0, 1, 0],\n",
              "        dtype=torch.uint8),\n",
              " tensor([0, 0, 0, 0, 1, 1, 0, 1, 1, 0, 1, 0, 0, 0, 1, 0, 0, 1, 0],\n",
              "        dtype=torch.uint8),\n",
              " tensor([0, 0, 1, 0, 1, 1, 0, 1, 1, 0, 1, 0, 0, 0, 1, 0, 0, 1, 0],\n",
              "        dtype=torch.uint8),\n",
              " tensor([0, 0, 1, 0, 1, 1, 0, 1, 1, 0, 1, 0, 0, 0, 1, 0, 0, 1, 0],\n",
              "        dtype=torch.uint8),\n",
              " tensor([0, 0, 1, 0, 0, 1, 0, 1, 1, 0, 1, 0, 0, 0, 1, 0, 0, 1, 0],\n",
              "        dtype=torch.uint8),\n",
              " tensor([0, 0, 1, 0, 0, 1, 0, 1, 1, 0, 1, 0, 0, 0, 1, 0, 0, 1, 0],\n",
              "        dtype=torch.uint8),\n",
              " tensor([0, 0, 1, 0, 0, 1, 1, 1, 1, 0, 1, 0, 0, 0, 1, 0, 0, 1, 0],\n",
              "        dtype=torch.uint8),\n",
              " tensor([0, 0, 1, 0, 0, 1, 1, 0, 1, 0, 1, 0, 0, 0, 1, 0, 0, 1, 0],\n",
              "        dtype=torch.uint8),\n",
              " tensor([0, 0, 1, 0, 0, 1, 1, 0, 1, 0, 1, 0, 0, 0, 1, 0, 0, 1, 0],\n",
              "        dtype=torch.uint8),\n",
              " tensor([0, 0, 1, 0, 0, 1, 1, 0, 1, 1, 1, 0, 0, 0, 1, 0, 0, 1, 0],\n",
              "        dtype=torch.uint8),\n",
              " tensor([0, 0, 1, 0, 0, 1, 1, 0, 1, 1, 0, 0, 0, 0, 1, 0, 0, 1, 0],\n",
              "        dtype=torch.uint8),\n",
              " tensor([0, 0, 1, 0, 0, 1, 1, 0, 1, 1, 0, 1, 0, 0, 1, 0, 0, 1, 0],\n",
              "        dtype=torch.uint8),\n",
              " tensor([0, 0, 1, 0, 0, 1, 1, 0, 1, 1, 0, 1, 0, 0, 1, 0, 0, 1, 0],\n",
              "        dtype=torch.uint8),\n",
              " tensor([0, 0, 1, 0, 0, 1, 1, 0, 1, 1, 0, 1, 0, 0, 1, 0, 0, 1, 0],\n",
              "        dtype=torch.uint8),\n",
              " tensor([0, 0, 1, 0, 0, 1, 1, 0, 1, 1, 0, 1, 0, 0, 0, 0, 0, 1, 0],\n",
              "        dtype=torch.uint8),\n",
              " tensor([0, 0, 1, 0, 0, 1, 1, 0, 1, 1, 0, 1, 0, 0, 0, 1, 0, 1, 0],\n",
              "        dtype=torch.uint8),\n",
              " tensor([0, 0, 1, 0, 0, 1, 1, 0, 1, 1, 0, 1, 0, 0, 0, 1, 0, 1, 0],\n",
              "        dtype=torch.uint8),\n",
              " tensor([0, 0, 1, 0, 0, 1, 1, 0, 1, 1, 0, 1, 0, 0, 0, 1, 0, 0, 0],\n",
              "        dtype=torch.uint8),\n",
              " tensor([0, 0, 1, 0, 0, 1, 1, 0, 1, 1, 0, 1, 0, 0, 0, 1, 0, 0, 1],\n",
              "        dtype=torch.uint8)]"
            ]
          },
          "metadata": {
            "tags": []
          },
          "execution_count": 29
        }
      ]
    },
    {
      "cell_type": "code",
      "metadata": {
        "id": "x6C11AIxstgB",
        "colab_type": "code",
        "colab": {}
      },
      "source": [
        "def query(db):\n",
        "    return db.sum()"
      ],
      "execution_count": 0,
      "outputs": []
    },
    {
      "cell_type": "code",
      "metadata": {
        "id": "Gaa1yT37s-aQ",
        "colab_type": "code",
        "colab": {
          "base_uri": "https://localhost:8080/",
          "height": 35
        },
        "outputId": "4b5f9ecd-d084-488c-9490-cb9c1b4f58b9"
      },
      "source": [
        "query(db)"
      ],
      "execution_count": 31,
      "outputs": [
        {
          "output_type": "execute_result",
          "data": {
            "text/plain": [
              "tensor(8)"
            ]
          },
          "metadata": {
            "tags": []
          },
          "execution_count": 31
        }
      ]
    },
    {
      "cell_type": "code",
      "metadata": {
        "id": "8DyHCb82tA1z",
        "colab_type": "code",
        "colab": {}
      },
      "source": [
        ""
      ],
      "execution_count": 0,
      "outputs": []
    }
  ]
}